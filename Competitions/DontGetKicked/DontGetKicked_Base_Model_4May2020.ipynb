{
 "cells": [
  {
   "cell_type": "code",
   "execution_count": 10,
   "metadata": {},
   "outputs": [],
   "source": [
    "import pandas as pd\n",
    "import numpy as np"
   ]
  },
  {
   "cell_type": "code",
   "execution_count": 11,
   "metadata": {},
   "outputs": [],
   "source": [
    "train = pd.read_csv('training.csv')\n",
    "test = pd.read_csv('test.csv')"
   ]
  },
  {
   "cell_type": "code",
   "execution_count": 12,
   "metadata": {},
   "outputs": [
    {
     "name": "stdout",
     "output_type": "stream",
     "text": [
      "<class 'pandas.core.frame.DataFrame'>\n",
      "RangeIndex: 72983 entries, 0 to 72982\n",
      "Data columns (total 34 columns):\n",
      " #   Column                             Non-Null Count  Dtype  \n",
      "---  ------                             --------------  -----  \n",
      " 0   RefId                              72983 non-null  int64  \n",
      " 1   IsBadBuy                           72983 non-null  int64  \n",
      " 2   PurchDate                          72983 non-null  object \n",
      " 3   Auction                            72983 non-null  object \n",
      " 4   VehYear                            72983 non-null  int64  \n",
      " 5   VehicleAge                         72983 non-null  int64  \n",
      " 6   Make                               72983 non-null  object \n",
      " 7   Model                              72983 non-null  object \n",
      " 8   Trim                               70623 non-null  object \n",
      " 9   SubModel                           72975 non-null  object \n",
      " 10  Color                              72975 non-null  object \n",
      " 11  Transmission                       72974 non-null  object \n",
      " 12  WheelTypeID                        69814 non-null  float64\n",
      " 13  WheelType                          69809 non-null  object \n",
      " 14  VehOdo                             72983 non-null  int64  \n",
      " 15  Nationality                        72978 non-null  object \n",
      " 16  Size                               72978 non-null  object \n",
      " 17  TopThreeAmericanName               72978 non-null  object \n",
      " 18  MMRAcquisitionAuctionAveragePrice  72965 non-null  float64\n",
      " 19  MMRAcquisitionAuctionCleanPrice    72965 non-null  float64\n",
      " 20  MMRAcquisitionRetailAveragePrice   72965 non-null  float64\n",
      " 21  MMRAcquisitonRetailCleanPrice      72965 non-null  float64\n",
      " 22  MMRCurrentAuctionAveragePrice      72668 non-null  float64\n",
      " 23  MMRCurrentAuctionCleanPrice        72668 non-null  float64\n",
      " 24  MMRCurrentRetailAveragePrice       72668 non-null  float64\n",
      " 25  MMRCurrentRetailCleanPrice         72668 non-null  float64\n",
      " 26  PRIMEUNIT                          3419 non-null   object \n",
      " 27  AUCGUART                           3419 non-null   object \n",
      " 28  BYRNO                              72983 non-null  int64  \n",
      " 29  VNZIP1                             72983 non-null  int64  \n",
      " 30  VNST                               72983 non-null  object \n",
      " 31  VehBCost                           72983 non-null  float64\n",
      " 32  IsOnlineSale                       72983 non-null  int64  \n",
      " 33  WarrantyCost                       72983 non-null  int64  \n",
      "dtypes: float64(10), int64(9), object(15)\n",
      "memory usage: 18.9+ MB\n"
     ]
    }
   ],
   "source": [
    "train.info()"
   ]
  },
  {
   "cell_type": "code",
   "execution_count": 53,
   "metadata": {},
   "outputs": [
    {
     "name": "stdout",
     "output_type": "stream",
     "text": [
      "<class 'pandas.core.frame.DataFrame'>\n",
      "Int64Index: 121690 entries, 0 to 48706\n",
      "Data columns (total 34 columns):\n",
      " #   Column                             Non-Null Count   Dtype  \n",
      "---  ------                             --------------   -----  \n",
      " 0   RefId                              121690 non-null  int64  \n",
      " 1   IsBadBuy                           72983 non-null   float64\n",
      " 2   PurchDate                          121690 non-null  object \n",
      " 3   Auction                            121690 non-null  object \n",
      " 4   VehYear                            121690 non-null  int64  \n",
      " 5   VehicleAge                         121690 non-null  int64  \n",
      " 6   Make                               121690 non-null  object \n",
      " 7   Model                              121690 non-null  object \n",
      " 8   Trim                               117780 non-null  object \n",
      " 9   SubModel                           121677 non-null  object \n",
      " 10  Color                              121678 non-null  object \n",
      " 11  Transmission                       121678 non-null  object \n",
      " 12  WheelTypeID                        116333 non-null  float64\n",
      " 13  WheelType                          116328 non-null  object \n",
      " 14  VehOdo                             121690 non-null  int64  \n",
      " 15  Nationality                        121678 non-null  object \n",
      " 16  Size                               121678 non-null  object \n",
      " 17  TopThreeAmericanName               121678 non-null  object \n",
      " 18  MMRAcquisitionAuctionAveragePrice  121662 non-null  float64\n",
      " 19  MMRAcquisitionAuctionCleanPrice    121662 non-null  float64\n",
      " 20  MMRAcquisitionRetailAveragePrice   121662 non-null  float64\n",
      " 21  MMRAcquisitonRetailCleanPrice      121662 non-null  float64\n",
      " 22  MMRCurrentAuctionAveragePrice      121232 non-null  float64\n",
      " 23  MMRCurrentAuctionCleanPrice        121232 non-null  float64\n",
      " 24  MMRCurrentRetailAveragePrice       121232 non-null  float64\n",
      " 25  MMRCurrentRetailCleanPrice         121232 non-null  float64\n",
      " 26  PRIMEUNIT                          5935 non-null    object \n",
      " 27  AUCGUART                           5935 non-null    object \n",
      " 28  BYRNO                              121690 non-null  int64  \n",
      " 29  VNZIP1                             121690 non-null  int64  \n",
      " 30  VNST                               121690 non-null  object \n",
      " 31  VehBCost                           121690 non-null  float64\n",
      " 32  IsOnlineSale                       121690 non-null  int64  \n",
      " 33  WarrantyCost                       121690 non-null  int64  \n",
      "dtypes: float64(11), int64(8), object(15)\n",
      "memory usage: 32.5+ MB\n"
     ]
    }
   ],
   "source": [
    "all = pd.concat([train, test])\n",
    "all.info()"
   ]
  },
  {
   "cell_type": "code",
   "execution_count": 56,
   "metadata": {},
   "outputs": [],
   "source": [
    "all = all.drop(['PRIMEUNIT','AUCGUART'], axis = 1)"
   ]
  },
  {
   "cell_type": "code",
   "execution_count": 57,
   "metadata": {},
   "outputs": [
    {
     "data": {
      "text/plain": [
       "RefId                                    0\n",
       "IsBadBuy                             48707\n",
       "PurchDate                                0\n",
       "Auction                                  0\n",
       "VehYear                                  0\n",
       "VehicleAge                               0\n",
       "Make                                     0\n",
       "Model                                    0\n",
       "Trim                                  3910\n",
       "SubModel                                13\n",
       "Color                                   12\n",
       "Transmission                            12\n",
       "WheelTypeID                              0\n",
       "WheelType                             5362\n",
       "VehOdo                                   0\n",
       "Nationality                             12\n",
       "Size                                    12\n",
       "TopThreeAmericanName                    12\n",
       "MMRAcquisitionAuctionAveragePrice        0\n",
       "MMRAcquisitionAuctionCleanPrice          0\n",
       "MMRAcquisitionRetailAveragePrice         0\n",
       "MMRAcquisitonRetailCleanPrice            0\n",
       "MMRCurrentAuctionAveragePrice            0\n",
       "MMRCurrentAuctionCleanPrice              0\n",
       "MMRCurrentRetailAveragePrice             0\n",
       "MMRCurrentRetailCleanPrice               0\n",
       "BYRNO                                    0\n",
       "VNZIP1                                   0\n",
       "VNST                                     0\n",
       "VehBCost                                 0\n",
       "IsOnlineSale                             0\n",
       "WarrantyCost                             0\n",
       "dtype: int64"
      ]
     },
     "execution_count": 57,
     "metadata": {},
     "output_type": "execute_result"
    }
   ],
   "source": [
    "all.isnull().sum()"
   ]
  },
  {
   "cell_type": "code",
   "execution_count": 58,
   "metadata": {},
   "outputs": [],
   "source": [
    "all['WheelTypeID'] = all['WheelTypeID'].fillna(value=all['WheelTypeID'].median())\n",
    "all['MMRAcquisitionAuctionAveragePrice'] = all['MMRAcquisitionAuctionAveragePrice'].fillna(value=all['MMRAcquisitionAuctionAveragePrice'].median())\n",
    "all['MMRAcquisitionAuctionCleanPrice'] = all['MMRAcquisitionAuctionCleanPrice'].fillna(value=all['MMRAcquisitionAuctionCleanPrice'].median())\n",
    "all['MMRAcquisitionRetailAveragePrice'] = all['MMRAcquisitionRetailAveragePrice'].fillna(value=all['MMRAcquisitionRetailAveragePrice'].median())\n",
    "all['MMRAcquisitonRetailCleanPrice'] = all['MMRAcquisitonRetailCleanPrice'].fillna(value=all['MMRAcquisitonRetailCleanPrice'].median())\n",
    "all['MMRCurrentAuctionAveragePrice'] = all['MMRCurrentAuctionAveragePrice'].fillna(value=all['MMRCurrentAuctionAveragePrice'].median())\n",
    "all['MMRCurrentAuctionCleanPrice'] = all['MMRCurrentAuctionCleanPrice'].fillna(value=all['MMRCurrentAuctionCleanPrice'].median())\n",
    "all['MMRCurrentRetailCleanPrice'] = all['MMRCurrentRetailCleanPrice'].fillna(value=all['MMRCurrentRetailCleanPrice'].median())\n",
    "all['MMRCurrentRetailAveragePrice'] = all['MMRCurrentRetailAveragePrice'].fillna(value=all['MMRCurrentRetailAveragePrice'].median())\n",
    "all['MMRCurrentRetailCleanPrice'] = all['MMRCurrentRetailCleanPrice'].fillna(value=all['MMRCurrentRetailCleanPrice'].median())"
   ]
  },
  {
   "cell_type": "code",
   "execution_count": 59,
   "metadata": {},
   "outputs": [],
   "source": [
    "all['Trim'] = all['Trim'].fillna(value='Missing')\n",
    "all['SubModel'] = all['SubModel'].fillna(value=all['SubModel'].mode()[0])\n",
    "all['Color'] = all['Color'].fillna(value=all['Color'].mode()[0])\n",
    "all['Transmission'] = all['Transmission'].fillna(value=all['Transmission'].mode()[0])\n",
    "all['WheelType'] = all['WheelType'].fillna(value=all['WheelType'].mode()[0])\n",
    "all['Nationality'] = all['Nationality'].fillna(value=all['Nationality'].mode()[0])\n",
    "all['Size'] = all['Size'].fillna(value=all['Size'].mode()[0])\n",
    "all['TopThreeAmericanName'] = all['TopThreeAmericanName'].fillna(value=all['TopThreeAmericanName'].mode()[0])"
   ]
  },
  {
   "cell_type": "code",
   "execution_count": 64,
   "metadata": {},
   "outputs": [],
   "source": [
    "all = pd.get_dummies(all, drop_first = True)"
   ]
  },
  {
   "cell_type": "code",
   "execution_count": 65,
   "metadata": {},
   "outputs": [],
   "source": [
    "t_train = all[all['IsBadBuy'].notna()]"
   ]
  },
  {
   "cell_type": "code",
   "execution_count": 66,
   "metadata": {},
   "outputs": [],
   "source": [
    "t_test = all[all['IsBadBuy'].isna()]"
   ]
  },
  {
   "cell_type": "code",
   "execution_count": 68,
   "metadata": {},
   "outputs": [],
   "source": [
    "y = t_train['IsBadBuy']\n",
    "X = t_train.drop(['RefId','IsBadBuy'], axis = 1)"
   ]
  },
  {
   "cell_type": "code",
   "execution_count": 69,
   "metadata": {},
   "outputs": [],
   "source": [
    "from sklearn.model_selection import train_test_split\n",
    "X_train, X_test, y_train, y_test = train_test_split(X, y, test_size=0.30, random_state=21)"
   ]
  },
  {
   "cell_type": "code",
   "execution_count": 82,
   "metadata": {},
   "outputs": [],
   "source": [
    "from sklearn.ensemble import RandomForestClassifier"
   ]
  },
  {
   "cell_type": "code",
   "execution_count": 83,
   "metadata": {},
   "outputs": [],
   "source": [
    "rf_Model = RandomForestClassifier()"
   ]
  },
  {
   "cell_type": "code",
   "execution_count": 84,
   "metadata": {},
   "outputs": [
    {
     "data": {
      "text/plain": [
       "RandomForestClassifier(bootstrap=True, ccp_alpha=0.0, class_weight=None,\n",
       "                       criterion='gini', max_depth=None, max_features='auto',\n",
       "                       max_leaf_nodes=None, max_samples=None,\n",
       "                       min_impurity_decrease=0.0, min_impurity_split=None,\n",
       "                       min_samples_leaf=1, min_samples_split=2,\n",
       "                       min_weight_fraction_leaf=0.0, n_estimators=100,\n",
       "                       n_jobs=None, oob_score=False, random_state=None,\n",
       "                       verbose=0, warm_start=False)"
      ]
     },
     "execution_count": 84,
     "metadata": {},
     "output_type": "execute_result"
    }
   ],
   "source": [
    "rf_Model.fit(X_train, y_train)"
   ]
  },
  {
   "cell_type": "code",
   "execution_count": 85,
   "metadata": {},
   "outputs": [
    {
     "name": "stdout",
     "output_type": "stream",
     "text": [
      "Train : 1.000\n",
      "Test : 0.877\n"
     ]
    }
   ],
   "source": [
    "print(f'Train : {log_Model.score(X_train, y_train):.3f}')\n",
    "print(f'Test : {log_Model.score(X_test, y_test):.3f}')"
   ]
  },
  {
   "cell_type": "code",
   "execution_count": 91,
   "metadata": {},
   "outputs": [
    {
     "data": {
      "text/plain": [
       "79.0"
      ]
     },
     "execution_count": 91,
     "metadata": {},
     "output_type": "execute_result"
    }
   ],
   "source": [
    "log_Model.predict(X_test).sum()"
   ]
  },
  {
   "cell_type": "markdown",
   "metadata": {},
   "source": [
    "# Export Submission File"
   ]
  },
  {
   "cell_type": "code",
   "execution_count": 87,
   "metadata": {},
   "outputs": [],
   "source": [
    "sub_test = t_test.drop(['RefId','IsBadBuy'], axis = 1)"
   ]
  },
  {
   "cell_type": "code",
   "execution_count": 88,
   "metadata": {},
   "outputs": [],
   "source": [
    "sub_test_pred = log_Model.predict(sub_test)"
   ]
  },
  {
   "cell_type": "code",
   "execution_count": 89,
   "metadata": {},
   "outputs": [],
   "source": [
    "AllSub = pd.DataFrame({ 'RefId': test['RefId'],\n",
    "                       'IsBadBuy' : sub_test_pred\n",
    "    \n",
    "})\n",
    "\n",
    "AllSub.to_csv(\"Base_Num_RF_Model.csv\", index = False)"
   ]
  },
  {
   "cell_type": "code",
   "execution_count": 90,
   "metadata": {},
   "outputs": [
    {
     "data": {
      "text/plain": [
       "63.0"
      ]
     },
     "execution_count": 90,
     "metadata": {},
     "output_type": "execute_result"
    }
   ],
   "source": [
    "sub_test_pred.sum()"
   ]
  },
  {
   "cell_type": "code",
   "execution_count": null,
   "metadata": {},
   "outputs": [],
   "source": []
  }
 ],
 "metadata": {
  "kernelspec": {
   "display_name": "Python 3",
   "language": "python",
   "name": "python3"
  },
  "language_info": {
   "codemirror_mode": {
    "name": "ipython",
    "version": 3
   },
   "file_extension": ".py",
   "mimetype": "text/x-python",
   "name": "python",
   "nbconvert_exporter": "python",
   "pygments_lexer": "ipython3",
   "version": "3.7.6"
  }
 },
 "nbformat": 4,
 "nbformat_minor": 4
}
