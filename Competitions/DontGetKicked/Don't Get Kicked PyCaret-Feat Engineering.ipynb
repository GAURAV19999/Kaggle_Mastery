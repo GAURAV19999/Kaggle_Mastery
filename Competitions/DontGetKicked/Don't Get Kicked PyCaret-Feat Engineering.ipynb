{
 "cells": [
  {
   "cell_type": "code",
   "execution_count": 4,
   "metadata": {},
   "outputs": [],
   "source": [
    "#!pip install pycaret"
   ]
  },
  {
   "cell_type": "markdown",
   "metadata": {},
   "source": [
    "## Import Libraries"
   ]
  },
  {
   "cell_type": "code",
   "execution_count": 21,
   "metadata": {},
   "outputs": [],
   "source": [
    "import pandas as pd\n",
    "from pycaret.classification import *"
   ]
  },
  {
   "cell_type": "markdown",
   "metadata": {},
   "source": [
    "## Import Data"
   ]
  },
  {
   "cell_type": "code",
   "execution_count": 22,
   "metadata": {},
   "outputs": [],
   "source": [
    "train = pd.read_csv(\"training.csv\")\n",
    "test = pd.read_csv(\"test.csv\")"
   ]
  },
  {
   "cell_type": "code",
   "execution_count": 23,
   "metadata": {},
   "outputs": [
    {
     "data": {
      "text/html": [
       "<div>\n",
       "<style scoped>\n",
       "    .dataframe tbody tr th:only-of-type {\n",
       "        vertical-align: middle;\n",
       "    }\n",
       "\n",
       "    .dataframe tbody tr th {\n",
       "        vertical-align: top;\n",
       "    }\n",
       "\n",
       "    .dataframe thead th {\n",
       "        text-align: right;\n",
       "    }\n",
       "</style>\n",
       "<table border=\"1\" class=\"dataframe\">\n",
       "  <thead>\n",
       "    <tr style=\"text-align: right;\">\n",
       "      <th></th>\n",
       "      <th>RefId</th>\n",
       "      <th>IsBadBuy</th>\n",
       "      <th>PurchDate</th>\n",
       "      <th>Auction</th>\n",
       "      <th>VehYear</th>\n",
       "      <th>VehicleAge</th>\n",
       "      <th>Make</th>\n",
       "      <th>Model</th>\n",
       "      <th>Trim</th>\n",
       "      <th>SubModel</th>\n",
       "      <th>...</th>\n",
       "      <th>MMRCurrentRetailAveragePrice</th>\n",
       "      <th>MMRCurrentRetailCleanPrice</th>\n",
       "      <th>PRIMEUNIT</th>\n",
       "      <th>AUCGUART</th>\n",
       "      <th>BYRNO</th>\n",
       "      <th>VNZIP1</th>\n",
       "      <th>VNST</th>\n",
       "      <th>VehBCost</th>\n",
       "      <th>IsOnlineSale</th>\n",
       "      <th>WarrantyCost</th>\n",
       "    </tr>\n",
       "  </thead>\n",
       "  <tbody>\n",
       "    <tr>\n",
       "      <th>0</th>\n",
       "      <td>1</td>\n",
       "      <td>0</td>\n",
       "      <td>12/7/2009</td>\n",
       "      <td>ADESA</td>\n",
       "      <td>2006</td>\n",
       "      <td>3</td>\n",
       "      <td>MAZDA</td>\n",
       "      <td>MAZDA3</td>\n",
       "      <td>i</td>\n",
       "      <td>4D SEDAN I</td>\n",
       "      <td>...</td>\n",
       "      <td>11597.0</td>\n",
       "      <td>12409.0</td>\n",
       "      <td>NaN</td>\n",
       "      <td>NaN</td>\n",
       "      <td>21973</td>\n",
       "      <td>33619</td>\n",
       "      <td>FL</td>\n",
       "      <td>7100.0</td>\n",
       "      <td>0</td>\n",
       "      <td>1113</td>\n",
       "    </tr>\n",
       "    <tr>\n",
       "      <th>1</th>\n",
       "      <td>2</td>\n",
       "      <td>0</td>\n",
       "      <td>12/7/2009</td>\n",
       "      <td>ADESA</td>\n",
       "      <td>2004</td>\n",
       "      <td>5</td>\n",
       "      <td>DODGE</td>\n",
       "      <td>1500 RAM PICKUP 2WD</td>\n",
       "      <td>ST</td>\n",
       "      <td>QUAD CAB 4.7L SLT</td>\n",
       "      <td>...</td>\n",
       "      <td>11374.0</td>\n",
       "      <td>12791.0</td>\n",
       "      <td>NaN</td>\n",
       "      <td>NaN</td>\n",
       "      <td>19638</td>\n",
       "      <td>33619</td>\n",
       "      <td>FL</td>\n",
       "      <td>7600.0</td>\n",
       "      <td>0</td>\n",
       "      <td>1053</td>\n",
       "    </tr>\n",
       "    <tr>\n",
       "      <th>2</th>\n",
       "      <td>3</td>\n",
       "      <td>0</td>\n",
       "      <td>12/7/2009</td>\n",
       "      <td>ADESA</td>\n",
       "      <td>2005</td>\n",
       "      <td>4</td>\n",
       "      <td>DODGE</td>\n",
       "      <td>STRATUS V6</td>\n",
       "      <td>SXT</td>\n",
       "      <td>4D SEDAN SXT FFV</td>\n",
       "      <td>...</td>\n",
       "      <td>7146.0</td>\n",
       "      <td>8702.0</td>\n",
       "      <td>NaN</td>\n",
       "      <td>NaN</td>\n",
       "      <td>19638</td>\n",
       "      <td>33619</td>\n",
       "      <td>FL</td>\n",
       "      <td>4900.0</td>\n",
       "      <td>0</td>\n",
       "      <td>1389</td>\n",
       "    </tr>\n",
       "    <tr>\n",
       "      <th>3</th>\n",
       "      <td>4</td>\n",
       "      <td>0</td>\n",
       "      <td>12/7/2009</td>\n",
       "      <td>ADESA</td>\n",
       "      <td>2004</td>\n",
       "      <td>5</td>\n",
       "      <td>DODGE</td>\n",
       "      <td>NEON</td>\n",
       "      <td>SXT</td>\n",
       "      <td>4D SEDAN</td>\n",
       "      <td>...</td>\n",
       "      <td>4375.0</td>\n",
       "      <td>5518.0</td>\n",
       "      <td>NaN</td>\n",
       "      <td>NaN</td>\n",
       "      <td>19638</td>\n",
       "      <td>33619</td>\n",
       "      <td>FL</td>\n",
       "      <td>4100.0</td>\n",
       "      <td>0</td>\n",
       "      <td>630</td>\n",
       "    </tr>\n",
       "    <tr>\n",
       "      <th>4</th>\n",
       "      <td>5</td>\n",
       "      <td>0</td>\n",
       "      <td>12/7/2009</td>\n",
       "      <td>ADESA</td>\n",
       "      <td>2005</td>\n",
       "      <td>4</td>\n",
       "      <td>FORD</td>\n",
       "      <td>FOCUS</td>\n",
       "      <td>ZX3</td>\n",
       "      <td>2D COUPE ZX3</td>\n",
       "      <td>...</td>\n",
       "      <td>6739.0</td>\n",
       "      <td>7911.0</td>\n",
       "      <td>NaN</td>\n",
       "      <td>NaN</td>\n",
       "      <td>19638</td>\n",
       "      <td>33619</td>\n",
       "      <td>FL</td>\n",
       "      <td>4000.0</td>\n",
       "      <td>0</td>\n",
       "      <td>1020</td>\n",
       "    </tr>\n",
       "  </tbody>\n",
       "</table>\n",
       "<p>5 rows × 34 columns</p>\n",
       "</div>"
      ],
      "text/plain": [
       "   RefId  IsBadBuy  PurchDate Auction  VehYear  VehicleAge   Make  \\\n",
       "0      1         0  12/7/2009   ADESA     2006           3  MAZDA   \n",
       "1      2         0  12/7/2009   ADESA     2004           5  DODGE   \n",
       "2      3         0  12/7/2009   ADESA     2005           4  DODGE   \n",
       "3      4         0  12/7/2009   ADESA     2004           5  DODGE   \n",
       "4      5         0  12/7/2009   ADESA     2005           4   FORD   \n",
       "\n",
       "                 Model Trim           SubModel  ...  \\\n",
       "0               MAZDA3    i         4D SEDAN I  ...   \n",
       "1  1500 RAM PICKUP 2WD   ST  QUAD CAB 4.7L SLT  ...   \n",
       "2           STRATUS V6  SXT   4D SEDAN SXT FFV  ...   \n",
       "3                 NEON  SXT           4D SEDAN  ...   \n",
       "4                FOCUS  ZX3       2D COUPE ZX3  ...   \n",
       "\n",
       "  MMRCurrentRetailAveragePrice MMRCurrentRetailCleanPrice  PRIMEUNIT AUCGUART  \\\n",
       "0                      11597.0                    12409.0        NaN      NaN   \n",
       "1                      11374.0                    12791.0        NaN      NaN   \n",
       "2                       7146.0                     8702.0        NaN      NaN   \n",
       "3                       4375.0                     5518.0        NaN      NaN   \n",
       "4                       6739.0                     7911.0        NaN      NaN   \n",
       "\n",
       "   BYRNO VNZIP1 VNST VehBCost  IsOnlineSale  WarrantyCost  \n",
       "0  21973  33619   FL   7100.0             0          1113  \n",
       "1  19638  33619   FL   7600.0             0          1053  \n",
       "2  19638  33619   FL   4900.0             0          1389  \n",
       "3  19638  33619   FL   4100.0             0           630  \n",
       "4  19638  33619   FL   4000.0             0          1020  \n",
       "\n",
       "[5 rows x 34 columns]"
      ]
     },
     "execution_count": 23,
     "metadata": {},
     "output_type": "execute_result"
    }
   ],
   "source": [
    "train.head()"
   ]
  },
  {
   "cell_type": "code",
   "execution_count": 24,
   "metadata": {},
   "outputs": [],
   "source": [
    "train['train_or_test']='train'\n",
    "test['train_or_test']='test'\n",
    "df=pd.concat([train,test])"
   ]
  },
  {
   "cell_type": "markdown",
   "metadata": {},
   "source": [
    "## Feat Engineering"
   ]
  },
  {
   "cell_type": "code",
   "execution_count": 25,
   "metadata": {},
   "outputs": [],
   "source": [
    "df['mean_MMRAcquisitionAuctionAveragePrice_Make']=df.groupby(['Make'])['MMRAcquisitionAuctionAveragePrice'].transform('mean')\n",
    "df['mean_MMRAcquisitionAuctionAveragePrice_Model']=df.groupby(['Model'])['MMRAcquisitionAuctionAveragePrice'].transform('mean')\n",
    "df['mean_MMRAcquisitionAuctionAveragePrice_Trim']=df.groupby(['Trim'])['MMRAcquisitionAuctionAveragePrice'].transform('mean')\n",
    "df['mean_MMRAcquisitionAuctionAveragePrice_SubModel']=df.groupby(['SubModel'])['MMRAcquisitionAuctionAveragePrice'].transform('mean')\n",
    "df['mean_MMRAcquisitionAuctionAveragePrice_Color']=df.groupby(['Color'])['MMRAcquisitionAuctionAveragePrice'].transform('mean')\n",
    "df['mean_MMRAcquisitionAuctionAveragePrice_Transmission']=df.groupby(['Transmission'])['MMRAcquisitionAuctionAveragePrice'].transform('mean')"
   ]
  },
  {
   "cell_type": "code",
   "execution_count": 26,
   "metadata": {
    "scrolled": true
   },
   "outputs": [
    {
     "name": "stdout",
     "output_type": "stream",
     "text": [
      "<class 'pandas.core.frame.DataFrame'>\n",
      "Int64Index: 121690 entries, 0 to 48706\n",
      "Data columns (total 41 columns):\n",
      " #   Column                                               Non-Null Count   Dtype  \n",
      "---  ------                                               --------------   -----  \n",
      " 0   RefId                                                121690 non-null  int64  \n",
      " 1   IsBadBuy                                             72983 non-null   float64\n",
      " 2   PurchDate                                            121690 non-null  object \n",
      " 3   Auction                                              121690 non-null  object \n",
      " 4   VehYear                                              121690 non-null  int64  \n",
      " 5   VehicleAge                                           121690 non-null  int64  \n",
      " 6   Make                                                 121690 non-null  object \n",
      " 7   Model                                                121690 non-null  object \n",
      " 8   Trim                                                 117780 non-null  object \n",
      " 9   SubModel                                             121677 non-null  object \n",
      " 10  Color                                                121678 non-null  object \n",
      " 11  Transmission                                         121678 non-null  object \n",
      " 12  WheelTypeID                                          116333 non-null  float64\n",
      " 13  WheelType                                            116328 non-null  object \n",
      " 14  VehOdo                                               121690 non-null  int64  \n",
      " 15  Nationality                                          121678 non-null  object \n",
      " 16  Size                                                 121678 non-null  object \n",
      " 17  TopThreeAmericanName                                 121678 non-null  object \n",
      " 18  MMRAcquisitionAuctionAveragePrice                    121662 non-null  float64\n",
      " 19  MMRAcquisitionAuctionCleanPrice                      121662 non-null  float64\n",
      " 20  MMRAcquisitionRetailAveragePrice                     121662 non-null  float64\n",
      " 21  MMRAcquisitonRetailCleanPrice                        121662 non-null  float64\n",
      " 22  MMRCurrentAuctionAveragePrice                        121232 non-null  float64\n",
      " 23  MMRCurrentAuctionCleanPrice                          121232 non-null  float64\n",
      " 24  MMRCurrentRetailAveragePrice                         121232 non-null  float64\n",
      " 25  MMRCurrentRetailCleanPrice                           121232 non-null  float64\n",
      " 26  PRIMEUNIT                                            5935 non-null    object \n",
      " 27  AUCGUART                                             5935 non-null    object \n",
      " 28  BYRNO                                                121690 non-null  int64  \n",
      " 29  VNZIP1                                               121690 non-null  int64  \n",
      " 30  VNST                                                 121690 non-null  object \n",
      " 31  VehBCost                                             121690 non-null  float64\n",
      " 32  IsOnlineSale                                         121690 non-null  int64  \n",
      " 33  WarrantyCost                                         121690 non-null  int64  \n",
      " 34  train_or_test                                        121690 non-null  object \n",
      " 35  mean_MMRAcquisitionAuctionAveragePrice_Make          121690 non-null  float64\n",
      " 36  mean_MMRAcquisitionAuctionAveragePrice_Model         121689 non-null  float64\n",
      " 37  mean_MMRAcquisitionAuctionAveragePrice_Trim          117780 non-null  float64\n",
      " 38  mean_MMRAcquisitionAuctionAveragePrice_SubModel      121677 non-null  float64\n",
      " 39  mean_MMRAcquisitionAuctionAveragePrice_Color         121678 non-null  float64\n",
      " 40  mean_MMRAcquisitionAuctionAveragePrice_Transmission  121678 non-null  float64\n",
      "dtypes: float64(17), int64(8), object(16)\n",
      "memory usage: 39.0+ MB\n"
     ]
    }
   ],
   "source": [
    "df.info()"
   ]
  },
  {
   "cell_type": "code",
   "execution_count": 31,
   "metadata": {},
   "outputs": [],
   "source": [
    "train=df.loc[df.train_or_test.isin(['train'])]\n",
    "train.IsBadBuy = train.IsBadBuy.astype(int)\n",
    "test=df.loc[df.train_or_test.isin(['test'])]"
   ]
  },
  {
   "cell_type": "code",
   "execution_count": 32,
   "metadata": {},
   "outputs": [
    {
     "data": {
      "text/plain": [
       "0    64007\n",
       "1     8976\n",
       "Name: IsBadBuy, dtype: int64"
      ]
     },
     "execution_count": 32,
     "metadata": {},
     "output_type": "execute_result"
    }
   ],
   "source": [
    "train.IsBadBuy.value_counts()"
   ]
  },
  {
   "cell_type": "markdown",
   "metadata": {},
   "source": [
    "## Setup PyCaret with Target Variable"
   ]
  },
  {
   "cell_type": "code",
   "execution_count": 33,
   "metadata": {},
   "outputs": [
    {
     "name": "stdout",
     "output_type": "stream",
     "text": [
      "Setup Succesfully Completed!\n"
     ]
    },
    {
     "data": {
      "text/html": [
       "<style  type=\"text/css\" >\n",
       "    #T_f09b8fd8_0fb5_11eb_9a0c_9cb6d0f650c0row4_col1 {\n",
       "            background-color:  lightgreen;\n",
       "        }</style><table id=\"T_f09b8fd8_0fb5_11eb_9a0c_9cb6d0f650c0\" ><thead>    <tr>        <th class=\"blank level0\" ></th>        <th class=\"col_heading level0 col0\" >Description</th>        <th class=\"col_heading level0 col1\" >Value</th>    </tr></thead><tbody>\n",
       "                <tr>\n",
       "                        <th id=\"T_f09b8fd8_0fb5_11eb_9a0c_9cb6d0f650c0level0_row0\" class=\"row_heading level0 row0\" >0</th>\n",
       "                        <td id=\"T_f09b8fd8_0fb5_11eb_9a0c_9cb6d0f650c0row0_col0\" class=\"data row0 col0\" >session_id</td>\n",
       "                        <td id=\"T_f09b8fd8_0fb5_11eb_9a0c_9cb6d0f650c0row0_col1\" class=\"data row0 col1\" >8661</td>\n",
       "            </tr>\n",
       "            <tr>\n",
       "                        <th id=\"T_f09b8fd8_0fb5_11eb_9a0c_9cb6d0f650c0level0_row1\" class=\"row_heading level0 row1\" >1</th>\n",
       "                        <td id=\"T_f09b8fd8_0fb5_11eb_9a0c_9cb6d0f650c0row1_col0\" class=\"data row1 col0\" >Target Type</td>\n",
       "                        <td id=\"T_f09b8fd8_0fb5_11eb_9a0c_9cb6d0f650c0row1_col1\" class=\"data row1 col1\" >Binary</td>\n",
       "            </tr>\n",
       "            <tr>\n",
       "                        <th id=\"T_f09b8fd8_0fb5_11eb_9a0c_9cb6d0f650c0level0_row2\" class=\"row_heading level0 row2\" >2</th>\n",
       "                        <td id=\"T_f09b8fd8_0fb5_11eb_9a0c_9cb6d0f650c0row2_col0\" class=\"data row2 col0\" >Label Encoded</td>\n",
       "                        <td id=\"T_f09b8fd8_0fb5_11eb_9a0c_9cb6d0f650c0row2_col1\" class=\"data row2 col1\" >None</td>\n",
       "            </tr>\n",
       "            <tr>\n",
       "                        <th id=\"T_f09b8fd8_0fb5_11eb_9a0c_9cb6d0f650c0level0_row3\" class=\"row_heading level0 row3\" >3</th>\n",
       "                        <td id=\"T_f09b8fd8_0fb5_11eb_9a0c_9cb6d0f650c0row3_col0\" class=\"data row3 col0\" >Original Data</td>\n",
       "                        <td id=\"T_f09b8fd8_0fb5_11eb_9a0c_9cb6d0f650c0row3_col1\" class=\"data row3 col1\" >(72983, 41)</td>\n",
       "            </tr>\n",
       "            <tr>\n",
       "                        <th id=\"T_f09b8fd8_0fb5_11eb_9a0c_9cb6d0f650c0level0_row4\" class=\"row_heading level0 row4\" >4</th>\n",
       "                        <td id=\"T_f09b8fd8_0fb5_11eb_9a0c_9cb6d0f650c0row4_col0\" class=\"data row4 col0\" >Missing Values </td>\n",
       "                        <td id=\"T_f09b8fd8_0fb5_11eb_9a0c_9cb6d0f650c0row4_col1\" class=\"data row4 col1\" >True</td>\n",
       "            </tr>\n",
       "            <tr>\n",
       "                        <th id=\"T_f09b8fd8_0fb5_11eb_9a0c_9cb6d0f650c0level0_row5\" class=\"row_heading level0 row5\" >5</th>\n",
       "                        <td id=\"T_f09b8fd8_0fb5_11eb_9a0c_9cb6d0f650c0row5_col0\" class=\"data row5 col0\" >Numeric Features </td>\n",
       "                        <td id=\"T_f09b8fd8_0fb5_11eb_9a0c_9cb6d0f650c0row5_col1\" class=\"data row5 col1\" >20</td>\n",
       "            </tr>\n",
       "            <tr>\n",
       "                        <th id=\"T_f09b8fd8_0fb5_11eb_9a0c_9cb6d0f650c0level0_row6\" class=\"row_heading level0 row6\" >6</th>\n",
       "                        <td id=\"T_f09b8fd8_0fb5_11eb_9a0c_9cb6d0f650c0row6_col0\" class=\"data row6 col0\" >Categorical Features </td>\n",
       "                        <td id=\"T_f09b8fd8_0fb5_11eb_9a0c_9cb6d0f650c0row6_col1\" class=\"data row6 col1\" >19</td>\n",
       "            </tr>\n",
       "            <tr>\n",
       "                        <th id=\"T_f09b8fd8_0fb5_11eb_9a0c_9cb6d0f650c0level0_row7\" class=\"row_heading level0 row7\" >7</th>\n",
       "                        <td id=\"T_f09b8fd8_0fb5_11eb_9a0c_9cb6d0f650c0row7_col0\" class=\"data row7 col0\" >Ordinal Features </td>\n",
       "                        <td id=\"T_f09b8fd8_0fb5_11eb_9a0c_9cb6d0f650c0row7_col1\" class=\"data row7 col1\" >False</td>\n",
       "            </tr>\n",
       "            <tr>\n",
       "                        <th id=\"T_f09b8fd8_0fb5_11eb_9a0c_9cb6d0f650c0level0_row8\" class=\"row_heading level0 row8\" >8</th>\n",
       "                        <td id=\"T_f09b8fd8_0fb5_11eb_9a0c_9cb6d0f650c0row8_col0\" class=\"data row8 col0\" >High Cardinality Features </td>\n",
       "                        <td id=\"T_f09b8fd8_0fb5_11eb_9a0c_9cb6d0f650c0row8_col1\" class=\"data row8 col1\" >False</td>\n",
       "            </tr>\n",
       "            <tr>\n",
       "                        <th id=\"T_f09b8fd8_0fb5_11eb_9a0c_9cb6d0f650c0level0_row9\" class=\"row_heading level0 row9\" >9</th>\n",
       "                        <td id=\"T_f09b8fd8_0fb5_11eb_9a0c_9cb6d0f650c0row9_col0\" class=\"data row9 col0\" >High Cardinality Method </td>\n",
       "                        <td id=\"T_f09b8fd8_0fb5_11eb_9a0c_9cb6d0f650c0row9_col1\" class=\"data row9 col1\" >None</td>\n",
       "            </tr>\n",
       "            <tr>\n",
       "                        <th id=\"T_f09b8fd8_0fb5_11eb_9a0c_9cb6d0f650c0level0_row10\" class=\"row_heading level0 row10\" >10</th>\n",
       "                        <td id=\"T_f09b8fd8_0fb5_11eb_9a0c_9cb6d0f650c0row10_col0\" class=\"data row10 col0\" >Sampled Data</td>\n",
       "                        <td id=\"T_f09b8fd8_0fb5_11eb_9a0c_9cb6d0f650c0row10_col1\" class=\"data row10 col1\" >(65684, 41)</td>\n",
       "            </tr>\n",
       "            <tr>\n",
       "                        <th id=\"T_f09b8fd8_0fb5_11eb_9a0c_9cb6d0f650c0level0_row11\" class=\"row_heading level0 row11\" >11</th>\n",
       "                        <td id=\"T_f09b8fd8_0fb5_11eb_9a0c_9cb6d0f650c0row11_col0\" class=\"data row11 col0\" >Transformed Train Set</td>\n",
       "                        <td id=\"T_f09b8fd8_0fb5_11eb_9a0c_9cb6d0f650c0row11_col1\" class=\"data row11 col1\" >(45978, 2260)</td>\n",
       "            </tr>\n",
       "            <tr>\n",
       "                        <th id=\"T_f09b8fd8_0fb5_11eb_9a0c_9cb6d0f650c0level0_row12\" class=\"row_heading level0 row12\" >12</th>\n",
       "                        <td id=\"T_f09b8fd8_0fb5_11eb_9a0c_9cb6d0f650c0row12_col0\" class=\"data row12 col0\" >Transformed Test Set</td>\n",
       "                        <td id=\"T_f09b8fd8_0fb5_11eb_9a0c_9cb6d0f650c0row12_col1\" class=\"data row12 col1\" >(19706, 2260)</td>\n",
       "            </tr>\n",
       "            <tr>\n",
       "                        <th id=\"T_f09b8fd8_0fb5_11eb_9a0c_9cb6d0f650c0level0_row13\" class=\"row_heading level0 row13\" >13</th>\n",
       "                        <td id=\"T_f09b8fd8_0fb5_11eb_9a0c_9cb6d0f650c0row13_col0\" class=\"data row13 col0\" >Numeric Imputer </td>\n",
       "                        <td id=\"T_f09b8fd8_0fb5_11eb_9a0c_9cb6d0f650c0row13_col1\" class=\"data row13 col1\" >mean</td>\n",
       "            </tr>\n",
       "            <tr>\n",
       "                        <th id=\"T_f09b8fd8_0fb5_11eb_9a0c_9cb6d0f650c0level0_row14\" class=\"row_heading level0 row14\" >14</th>\n",
       "                        <td id=\"T_f09b8fd8_0fb5_11eb_9a0c_9cb6d0f650c0row14_col0\" class=\"data row14 col0\" >Categorical Imputer </td>\n",
       "                        <td id=\"T_f09b8fd8_0fb5_11eb_9a0c_9cb6d0f650c0row14_col1\" class=\"data row14 col1\" >constant</td>\n",
       "            </tr>\n",
       "            <tr>\n",
       "                        <th id=\"T_f09b8fd8_0fb5_11eb_9a0c_9cb6d0f650c0level0_row15\" class=\"row_heading level0 row15\" >15</th>\n",
       "                        <td id=\"T_f09b8fd8_0fb5_11eb_9a0c_9cb6d0f650c0row15_col0\" class=\"data row15 col0\" >Normalize </td>\n",
       "                        <td id=\"T_f09b8fd8_0fb5_11eb_9a0c_9cb6d0f650c0row15_col1\" class=\"data row15 col1\" >False</td>\n",
       "            </tr>\n",
       "            <tr>\n",
       "                        <th id=\"T_f09b8fd8_0fb5_11eb_9a0c_9cb6d0f650c0level0_row16\" class=\"row_heading level0 row16\" >16</th>\n",
       "                        <td id=\"T_f09b8fd8_0fb5_11eb_9a0c_9cb6d0f650c0row16_col0\" class=\"data row16 col0\" >Normalize Method </td>\n",
       "                        <td id=\"T_f09b8fd8_0fb5_11eb_9a0c_9cb6d0f650c0row16_col1\" class=\"data row16 col1\" >None</td>\n",
       "            </tr>\n",
       "            <tr>\n",
       "                        <th id=\"T_f09b8fd8_0fb5_11eb_9a0c_9cb6d0f650c0level0_row17\" class=\"row_heading level0 row17\" >17</th>\n",
       "                        <td id=\"T_f09b8fd8_0fb5_11eb_9a0c_9cb6d0f650c0row17_col0\" class=\"data row17 col0\" >Transformation </td>\n",
       "                        <td id=\"T_f09b8fd8_0fb5_11eb_9a0c_9cb6d0f650c0row17_col1\" class=\"data row17 col1\" >False</td>\n",
       "            </tr>\n",
       "            <tr>\n",
       "                        <th id=\"T_f09b8fd8_0fb5_11eb_9a0c_9cb6d0f650c0level0_row18\" class=\"row_heading level0 row18\" >18</th>\n",
       "                        <td id=\"T_f09b8fd8_0fb5_11eb_9a0c_9cb6d0f650c0row18_col0\" class=\"data row18 col0\" >Transformation Method </td>\n",
       "                        <td id=\"T_f09b8fd8_0fb5_11eb_9a0c_9cb6d0f650c0row18_col1\" class=\"data row18 col1\" >None</td>\n",
       "            </tr>\n",
       "            <tr>\n",
       "                        <th id=\"T_f09b8fd8_0fb5_11eb_9a0c_9cb6d0f650c0level0_row19\" class=\"row_heading level0 row19\" >19</th>\n",
       "                        <td id=\"T_f09b8fd8_0fb5_11eb_9a0c_9cb6d0f650c0row19_col0\" class=\"data row19 col0\" >PCA </td>\n",
       "                        <td id=\"T_f09b8fd8_0fb5_11eb_9a0c_9cb6d0f650c0row19_col1\" class=\"data row19 col1\" >False</td>\n",
       "            </tr>\n",
       "            <tr>\n",
       "                        <th id=\"T_f09b8fd8_0fb5_11eb_9a0c_9cb6d0f650c0level0_row20\" class=\"row_heading level0 row20\" >20</th>\n",
       "                        <td id=\"T_f09b8fd8_0fb5_11eb_9a0c_9cb6d0f650c0row20_col0\" class=\"data row20 col0\" >PCA Method </td>\n",
       "                        <td id=\"T_f09b8fd8_0fb5_11eb_9a0c_9cb6d0f650c0row20_col1\" class=\"data row20 col1\" >None</td>\n",
       "            </tr>\n",
       "            <tr>\n",
       "                        <th id=\"T_f09b8fd8_0fb5_11eb_9a0c_9cb6d0f650c0level0_row21\" class=\"row_heading level0 row21\" >21</th>\n",
       "                        <td id=\"T_f09b8fd8_0fb5_11eb_9a0c_9cb6d0f650c0row21_col0\" class=\"data row21 col0\" >PCA Components </td>\n",
       "                        <td id=\"T_f09b8fd8_0fb5_11eb_9a0c_9cb6d0f650c0row21_col1\" class=\"data row21 col1\" >None</td>\n",
       "            </tr>\n",
       "            <tr>\n",
       "                        <th id=\"T_f09b8fd8_0fb5_11eb_9a0c_9cb6d0f650c0level0_row22\" class=\"row_heading level0 row22\" >22</th>\n",
       "                        <td id=\"T_f09b8fd8_0fb5_11eb_9a0c_9cb6d0f650c0row22_col0\" class=\"data row22 col0\" >Ignore Low Variance </td>\n",
       "                        <td id=\"T_f09b8fd8_0fb5_11eb_9a0c_9cb6d0f650c0row22_col1\" class=\"data row22 col1\" >False</td>\n",
       "            </tr>\n",
       "            <tr>\n",
       "                        <th id=\"T_f09b8fd8_0fb5_11eb_9a0c_9cb6d0f650c0level0_row23\" class=\"row_heading level0 row23\" >23</th>\n",
       "                        <td id=\"T_f09b8fd8_0fb5_11eb_9a0c_9cb6d0f650c0row23_col0\" class=\"data row23 col0\" >Combine Rare Levels </td>\n",
       "                        <td id=\"T_f09b8fd8_0fb5_11eb_9a0c_9cb6d0f650c0row23_col1\" class=\"data row23 col1\" >False</td>\n",
       "            </tr>\n",
       "            <tr>\n",
       "                        <th id=\"T_f09b8fd8_0fb5_11eb_9a0c_9cb6d0f650c0level0_row24\" class=\"row_heading level0 row24\" >24</th>\n",
       "                        <td id=\"T_f09b8fd8_0fb5_11eb_9a0c_9cb6d0f650c0row24_col0\" class=\"data row24 col0\" >Rare Level Threshold </td>\n",
       "                        <td id=\"T_f09b8fd8_0fb5_11eb_9a0c_9cb6d0f650c0row24_col1\" class=\"data row24 col1\" >None</td>\n",
       "            </tr>\n",
       "            <tr>\n",
       "                        <th id=\"T_f09b8fd8_0fb5_11eb_9a0c_9cb6d0f650c0level0_row25\" class=\"row_heading level0 row25\" >25</th>\n",
       "                        <td id=\"T_f09b8fd8_0fb5_11eb_9a0c_9cb6d0f650c0row25_col0\" class=\"data row25 col0\" >Numeric Binning </td>\n",
       "                        <td id=\"T_f09b8fd8_0fb5_11eb_9a0c_9cb6d0f650c0row25_col1\" class=\"data row25 col1\" >False</td>\n",
       "            </tr>\n",
       "            <tr>\n",
       "                        <th id=\"T_f09b8fd8_0fb5_11eb_9a0c_9cb6d0f650c0level0_row26\" class=\"row_heading level0 row26\" >26</th>\n",
       "                        <td id=\"T_f09b8fd8_0fb5_11eb_9a0c_9cb6d0f650c0row26_col0\" class=\"data row26 col0\" >Remove Outliers </td>\n",
       "                        <td id=\"T_f09b8fd8_0fb5_11eb_9a0c_9cb6d0f650c0row26_col1\" class=\"data row26 col1\" >False</td>\n",
       "            </tr>\n",
       "            <tr>\n",
       "                        <th id=\"T_f09b8fd8_0fb5_11eb_9a0c_9cb6d0f650c0level0_row27\" class=\"row_heading level0 row27\" >27</th>\n",
       "                        <td id=\"T_f09b8fd8_0fb5_11eb_9a0c_9cb6d0f650c0row27_col0\" class=\"data row27 col0\" >Outliers Threshold </td>\n",
       "                        <td id=\"T_f09b8fd8_0fb5_11eb_9a0c_9cb6d0f650c0row27_col1\" class=\"data row27 col1\" >None</td>\n",
       "            </tr>\n",
       "            <tr>\n",
       "                        <th id=\"T_f09b8fd8_0fb5_11eb_9a0c_9cb6d0f650c0level0_row28\" class=\"row_heading level0 row28\" >28</th>\n",
       "                        <td id=\"T_f09b8fd8_0fb5_11eb_9a0c_9cb6d0f650c0row28_col0\" class=\"data row28 col0\" >Remove Multicollinearity </td>\n",
       "                        <td id=\"T_f09b8fd8_0fb5_11eb_9a0c_9cb6d0f650c0row28_col1\" class=\"data row28 col1\" >False</td>\n",
       "            </tr>\n",
       "            <tr>\n",
       "                        <th id=\"T_f09b8fd8_0fb5_11eb_9a0c_9cb6d0f650c0level0_row29\" class=\"row_heading level0 row29\" >29</th>\n",
       "                        <td id=\"T_f09b8fd8_0fb5_11eb_9a0c_9cb6d0f650c0row29_col0\" class=\"data row29 col0\" >Multicollinearity Threshold </td>\n",
       "                        <td id=\"T_f09b8fd8_0fb5_11eb_9a0c_9cb6d0f650c0row29_col1\" class=\"data row29 col1\" >None</td>\n",
       "            </tr>\n",
       "            <tr>\n",
       "                        <th id=\"T_f09b8fd8_0fb5_11eb_9a0c_9cb6d0f650c0level0_row30\" class=\"row_heading level0 row30\" >30</th>\n",
       "                        <td id=\"T_f09b8fd8_0fb5_11eb_9a0c_9cb6d0f650c0row30_col0\" class=\"data row30 col0\" >Clustering </td>\n",
       "                        <td id=\"T_f09b8fd8_0fb5_11eb_9a0c_9cb6d0f650c0row30_col1\" class=\"data row30 col1\" >False</td>\n",
       "            </tr>\n",
       "            <tr>\n",
       "                        <th id=\"T_f09b8fd8_0fb5_11eb_9a0c_9cb6d0f650c0level0_row31\" class=\"row_heading level0 row31\" >31</th>\n",
       "                        <td id=\"T_f09b8fd8_0fb5_11eb_9a0c_9cb6d0f650c0row31_col0\" class=\"data row31 col0\" >Clustering Iteration </td>\n",
       "                        <td id=\"T_f09b8fd8_0fb5_11eb_9a0c_9cb6d0f650c0row31_col1\" class=\"data row31 col1\" >None</td>\n",
       "            </tr>\n",
       "            <tr>\n",
       "                        <th id=\"T_f09b8fd8_0fb5_11eb_9a0c_9cb6d0f650c0level0_row32\" class=\"row_heading level0 row32\" >32</th>\n",
       "                        <td id=\"T_f09b8fd8_0fb5_11eb_9a0c_9cb6d0f650c0row32_col0\" class=\"data row32 col0\" >Polynomial Features </td>\n",
       "                        <td id=\"T_f09b8fd8_0fb5_11eb_9a0c_9cb6d0f650c0row32_col1\" class=\"data row32 col1\" >False</td>\n",
       "            </tr>\n",
       "            <tr>\n",
       "                        <th id=\"T_f09b8fd8_0fb5_11eb_9a0c_9cb6d0f650c0level0_row33\" class=\"row_heading level0 row33\" >33</th>\n",
       "                        <td id=\"T_f09b8fd8_0fb5_11eb_9a0c_9cb6d0f650c0row33_col0\" class=\"data row33 col0\" >Polynomial Degree </td>\n",
       "                        <td id=\"T_f09b8fd8_0fb5_11eb_9a0c_9cb6d0f650c0row33_col1\" class=\"data row33 col1\" >None</td>\n",
       "            </tr>\n",
       "            <tr>\n",
       "                        <th id=\"T_f09b8fd8_0fb5_11eb_9a0c_9cb6d0f650c0level0_row34\" class=\"row_heading level0 row34\" >34</th>\n",
       "                        <td id=\"T_f09b8fd8_0fb5_11eb_9a0c_9cb6d0f650c0row34_col0\" class=\"data row34 col0\" >Trignometry Features </td>\n",
       "                        <td id=\"T_f09b8fd8_0fb5_11eb_9a0c_9cb6d0f650c0row34_col1\" class=\"data row34 col1\" >False</td>\n",
       "            </tr>\n",
       "            <tr>\n",
       "                        <th id=\"T_f09b8fd8_0fb5_11eb_9a0c_9cb6d0f650c0level0_row35\" class=\"row_heading level0 row35\" >35</th>\n",
       "                        <td id=\"T_f09b8fd8_0fb5_11eb_9a0c_9cb6d0f650c0row35_col0\" class=\"data row35 col0\" >Polynomial Threshold </td>\n",
       "                        <td id=\"T_f09b8fd8_0fb5_11eb_9a0c_9cb6d0f650c0row35_col1\" class=\"data row35 col1\" >None</td>\n",
       "            </tr>\n",
       "            <tr>\n",
       "                        <th id=\"T_f09b8fd8_0fb5_11eb_9a0c_9cb6d0f650c0level0_row36\" class=\"row_heading level0 row36\" >36</th>\n",
       "                        <td id=\"T_f09b8fd8_0fb5_11eb_9a0c_9cb6d0f650c0row36_col0\" class=\"data row36 col0\" >Group Features </td>\n",
       "                        <td id=\"T_f09b8fd8_0fb5_11eb_9a0c_9cb6d0f650c0row36_col1\" class=\"data row36 col1\" >False</td>\n",
       "            </tr>\n",
       "            <tr>\n",
       "                        <th id=\"T_f09b8fd8_0fb5_11eb_9a0c_9cb6d0f650c0level0_row37\" class=\"row_heading level0 row37\" >37</th>\n",
       "                        <td id=\"T_f09b8fd8_0fb5_11eb_9a0c_9cb6d0f650c0row37_col0\" class=\"data row37 col0\" >Feature Selection </td>\n",
       "                        <td id=\"T_f09b8fd8_0fb5_11eb_9a0c_9cb6d0f650c0row37_col1\" class=\"data row37 col1\" >False</td>\n",
       "            </tr>\n",
       "            <tr>\n",
       "                        <th id=\"T_f09b8fd8_0fb5_11eb_9a0c_9cb6d0f650c0level0_row38\" class=\"row_heading level0 row38\" >38</th>\n",
       "                        <td id=\"T_f09b8fd8_0fb5_11eb_9a0c_9cb6d0f650c0row38_col0\" class=\"data row38 col0\" >Features Selection Threshold </td>\n",
       "                        <td id=\"T_f09b8fd8_0fb5_11eb_9a0c_9cb6d0f650c0row38_col1\" class=\"data row38 col1\" >None</td>\n",
       "            </tr>\n",
       "            <tr>\n",
       "                        <th id=\"T_f09b8fd8_0fb5_11eb_9a0c_9cb6d0f650c0level0_row39\" class=\"row_heading level0 row39\" >39</th>\n",
       "                        <td id=\"T_f09b8fd8_0fb5_11eb_9a0c_9cb6d0f650c0row39_col0\" class=\"data row39 col0\" >Feature Interaction </td>\n",
       "                        <td id=\"T_f09b8fd8_0fb5_11eb_9a0c_9cb6d0f650c0row39_col1\" class=\"data row39 col1\" >False</td>\n",
       "            </tr>\n",
       "            <tr>\n",
       "                        <th id=\"T_f09b8fd8_0fb5_11eb_9a0c_9cb6d0f650c0level0_row40\" class=\"row_heading level0 row40\" >40</th>\n",
       "                        <td id=\"T_f09b8fd8_0fb5_11eb_9a0c_9cb6d0f650c0row40_col0\" class=\"data row40 col0\" >Feature Ratio </td>\n",
       "                        <td id=\"T_f09b8fd8_0fb5_11eb_9a0c_9cb6d0f650c0row40_col1\" class=\"data row40 col1\" >False</td>\n",
       "            </tr>\n",
       "            <tr>\n",
       "                        <th id=\"T_f09b8fd8_0fb5_11eb_9a0c_9cb6d0f650c0level0_row41\" class=\"row_heading level0 row41\" >41</th>\n",
       "                        <td id=\"T_f09b8fd8_0fb5_11eb_9a0c_9cb6d0f650c0row41_col0\" class=\"data row41 col0\" >Interaction Threshold </td>\n",
       "                        <td id=\"T_f09b8fd8_0fb5_11eb_9a0c_9cb6d0f650c0row41_col1\" class=\"data row41 col1\" >None</td>\n",
       "            </tr>\n",
       "            <tr>\n",
       "                        <th id=\"T_f09b8fd8_0fb5_11eb_9a0c_9cb6d0f650c0level0_row42\" class=\"row_heading level0 row42\" >42</th>\n",
       "                        <td id=\"T_f09b8fd8_0fb5_11eb_9a0c_9cb6d0f650c0row42_col0\" class=\"data row42 col0\" >Fix Imbalance</td>\n",
       "                        <td id=\"T_f09b8fd8_0fb5_11eb_9a0c_9cb6d0f650c0row42_col1\" class=\"data row42 col1\" >False</td>\n",
       "            </tr>\n",
       "            <tr>\n",
       "                        <th id=\"T_f09b8fd8_0fb5_11eb_9a0c_9cb6d0f650c0level0_row43\" class=\"row_heading level0 row43\" >43</th>\n",
       "                        <td id=\"T_f09b8fd8_0fb5_11eb_9a0c_9cb6d0f650c0row43_col0\" class=\"data row43 col0\" >Fix Imbalance Method</td>\n",
       "                        <td id=\"T_f09b8fd8_0fb5_11eb_9a0c_9cb6d0f650c0row43_col1\" class=\"data row43 col1\" >SMOTE</td>\n",
       "            </tr>\n",
       "    </tbody></table>"
      ],
      "text/plain": [
       "<pandas.io.formats.style.Styler at 0x1cbdf852488>"
      ]
     },
     "metadata": {},
     "output_type": "display_data"
    }
   ],
   "source": [
    "exp_clf = setup(train, target = 'IsBadBuy')"
   ]
  },
  {
   "cell_type": "code",
   "execution_count": 10,
   "metadata": {},
   "outputs": [
    {
     "data": {
      "text/html": [
       "<style  type=\"text/css\" >\n",
       "    #T_f6fbaa68_e935_11ea_949a_9cb6d0f650c0 th {\n",
       "          text-align: left;\n",
       "    }    #T_f6fbaa68_e935_11ea_949a_9cb6d0f650c0row0_col0 {\n",
       "            text-align:  left;\n",
       "        }    #T_f6fbaa68_e935_11ea_949a_9cb6d0f650c0row0_col1 {\n",
       "            background-color:  yellow;\n",
       "            text-align:  left;\n",
       "        }    #T_f6fbaa68_e935_11ea_949a_9cb6d0f650c0row0_col2 {\n",
       "            : ;\n",
       "            text-align:  left;\n",
       "        }    #T_f6fbaa68_e935_11ea_949a_9cb6d0f650c0row0_col3 {\n",
       "            : ;\n",
       "            text-align:  left;\n",
       "        }    #T_f6fbaa68_e935_11ea_949a_9cb6d0f650c0row0_col4 {\n",
       "            background-color:  yellow;\n",
       "            text-align:  left;\n",
       "        }    #T_f6fbaa68_e935_11ea_949a_9cb6d0f650c0row0_col5 {\n",
       "            : ;\n",
       "            text-align:  left;\n",
       "        }    #T_f6fbaa68_e935_11ea_949a_9cb6d0f650c0row0_col6 {\n",
       "            : ;\n",
       "            text-align:  left;\n",
       "        }    #T_f6fbaa68_e935_11ea_949a_9cb6d0f650c0row0_col7 {\n",
       "            background-color:  yellow;\n",
       "            text-align:  left;\n",
       "        }    #T_f6fbaa68_e935_11ea_949a_9cb6d0f650c0row0_col8 {\n",
       "            background-color:  lightgrey;\n",
       "            text-align:  left;\n",
       "        }    #T_f6fbaa68_e935_11ea_949a_9cb6d0f650c0row1_col0 {\n",
       "            text-align:  left;\n",
       "        }    #T_f6fbaa68_e935_11ea_949a_9cb6d0f650c0row1_col1 {\n",
       "            : ;\n",
       "            text-align:  left;\n",
       "        }    #T_f6fbaa68_e935_11ea_949a_9cb6d0f650c0row1_col2 {\n",
       "            background-color:  yellow;\n",
       "            text-align:  left;\n",
       "        }    #T_f6fbaa68_e935_11ea_949a_9cb6d0f650c0row1_col3 {\n",
       "            : ;\n",
       "            text-align:  left;\n",
       "        }    #T_f6fbaa68_e935_11ea_949a_9cb6d0f650c0row1_col4 {\n",
       "            : ;\n",
       "            text-align:  left;\n",
       "        }    #T_f6fbaa68_e935_11ea_949a_9cb6d0f650c0row1_col5 {\n",
       "            : ;\n",
       "            text-align:  left;\n",
       "        }    #T_f6fbaa68_e935_11ea_949a_9cb6d0f650c0row1_col6 {\n",
       "            : ;\n",
       "            text-align:  left;\n",
       "        }    #T_f6fbaa68_e935_11ea_949a_9cb6d0f650c0row1_col7 {\n",
       "            : ;\n",
       "            text-align:  left;\n",
       "        }    #T_f6fbaa68_e935_11ea_949a_9cb6d0f650c0row1_col8 {\n",
       "            background-color:  lightgrey;\n",
       "            text-align:  left;\n",
       "        }    #T_f6fbaa68_e935_11ea_949a_9cb6d0f650c0row2_col0 {\n",
       "            text-align:  left;\n",
       "        }    #T_f6fbaa68_e935_11ea_949a_9cb6d0f650c0row2_col1 {\n",
       "            : ;\n",
       "            text-align:  left;\n",
       "        }    #T_f6fbaa68_e935_11ea_949a_9cb6d0f650c0row2_col2 {\n",
       "            : ;\n",
       "            text-align:  left;\n",
       "        }    #T_f6fbaa68_e935_11ea_949a_9cb6d0f650c0row2_col3 {\n",
       "            : ;\n",
       "            text-align:  left;\n",
       "        }    #T_f6fbaa68_e935_11ea_949a_9cb6d0f650c0row2_col4 {\n",
       "            : ;\n",
       "            text-align:  left;\n",
       "        }    #T_f6fbaa68_e935_11ea_949a_9cb6d0f650c0row2_col5 {\n",
       "            : ;\n",
       "            text-align:  left;\n",
       "        }    #T_f6fbaa68_e935_11ea_949a_9cb6d0f650c0row2_col6 {\n",
       "            background-color:  yellow;\n",
       "            text-align:  left;\n",
       "        }    #T_f6fbaa68_e935_11ea_949a_9cb6d0f650c0row2_col7 {\n",
       "            : ;\n",
       "            text-align:  left;\n",
       "        }    #T_f6fbaa68_e935_11ea_949a_9cb6d0f650c0row2_col8 {\n",
       "            background-color:  lightgrey;\n",
       "            text-align:  left;\n",
       "        }    #T_f6fbaa68_e935_11ea_949a_9cb6d0f650c0row3_col0 {\n",
       "            text-align:  left;\n",
       "        }    #T_f6fbaa68_e935_11ea_949a_9cb6d0f650c0row3_col1 {\n",
       "            : ;\n",
       "            text-align:  left;\n",
       "        }    #T_f6fbaa68_e935_11ea_949a_9cb6d0f650c0row3_col2 {\n",
       "            : ;\n",
       "            text-align:  left;\n",
       "        }    #T_f6fbaa68_e935_11ea_949a_9cb6d0f650c0row3_col3 {\n",
       "            : ;\n",
       "            text-align:  left;\n",
       "        }    #T_f6fbaa68_e935_11ea_949a_9cb6d0f650c0row3_col4 {\n",
       "            : ;\n",
       "            text-align:  left;\n",
       "        }    #T_f6fbaa68_e935_11ea_949a_9cb6d0f650c0row3_col5 {\n",
       "            : ;\n",
       "            text-align:  left;\n",
       "        }    #T_f6fbaa68_e935_11ea_949a_9cb6d0f650c0row3_col6 {\n",
       "            : ;\n",
       "            text-align:  left;\n",
       "        }    #T_f6fbaa68_e935_11ea_949a_9cb6d0f650c0row3_col7 {\n",
       "            : ;\n",
       "            text-align:  left;\n",
       "        }    #T_f6fbaa68_e935_11ea_949a_9cb6d0f650c0row3_col8 {\n",
       "            background-color:  lightgrey;\n",
       "            text-align:  left;\n",
       "        }    #T_f6fbaa68_e935_11ea_949a_9cb6d0f650c0row4_col0 {\n",
       "            text-align:  left;\n",
       "        }    #T_f6fbaa68_e935_11ea_949a_9cb6d0f650c0row4_col1 {\n",
       "            : ;\n",
       "            text-align:  left;\n",
       "        }    #T_f6fbaa68_e935_11ea_949a_9cb6d0f650c0row4_col2 {\n",
       "            : ;\n",
       "            text-align:  left;\n",
       "        }    #T_f6fbaa68_e935_11ea_949a_9cb6d0f650c0row4_col3 {\n",
       "            : ;\n",
       "            text-align:  left;\n",
       "        }    #T_f6fbaa68_e935_11ea_949a_9cb6d0f650c0row4_col4 {\n",
       "            : ;\n",
       "            text-align:  left;\n",
       "        }    #T_f6fbaa68_e935_11ea_949a_9cb6d0f650c0row4_col5 {\n",
       "            : ;\n",
       "            text-align:  left;\n",
       "        }    #T_f6fbaa68_e935_11ea_949a_9cb6d0f650c0row4_col6 {\n",
       "            : ;\n",
       "            text-align:  left;\n",
       "        }    #T_f6fbaa68_e935_11ea_949a_9cb6d0f650c0row4_col7 {\n",
       "            : ;\n",
       "            text-align:  left;\n",
       "        }    #T_f6fbaa68_e935_11ea_949a_9cb6d0f650c0row4_col8 {\n",
       "            background-color:  lightgrey;\n",
       "            text-align:  left;\n",
       "        }    #T_f6fbaa68_e935_11ea_949a_9cb6d0f650c0row5_col0 {\n",
       "            text-align:  left;\n",
       "        }    #T_f6fbaa68_e935_11ea_949a_9cb6d0f650c0row5_col1 {\n",
       "            : ;\n",
       "            text-align:  left;\n",
       "        }    #T_f6fbaa68_e935_11ea_949a_9cb6d0f650c0row5_col2 {\n",
       "            : ;\n",
       "            text-align:  left;\n",
       "        }    #T_f6fbaa68_e935_11ea_949a_9cb6d0f650c0row5_col3 {\n",
       "            : ;\n",
       "            text-align:  left;\n",
       "        }    #T_f6fbaa68_e935_11ea_949a_9cb6d0f650c0row5_col4 {\n",
       "            : ;\n",
       "            text-align:  left;\n",
       "        }    #T_f6fbaa68_e935_11ea_949a_9cb6d0f650c0row5_col5 {\n",
       "            : ;\n",
       "            text-align:  left;\n",
       "        }    #T_f6fbaa68_e935_11ea_949a_9cb6d0f650c0row5_col6 {\n",
       "            : ;\n",
       "            text-align:  left;\n",
       "        }    #T_f6fbaa68_e935_11ea_949a_9cb6d0f650c0row5_col7 {\n",
       "            : ;\n",
       "            text-align:  left;\n",
       "        }    #T_f6fbaa68_e935_11ea_949a_9cb6d0f650c0row5_col8 {\n",
       "            background-color:  lightgrey;\n",
       "            text-align:  left;\n",
       "        }    #T_f6fbaa68_e935_11ea_949a_9cb6d0f650c0row6_col0 {\n",
       "            text-align:  left;\n",
       "        }    #T_f6fbaa68_e935_11ea_949a_9cb6d0f650c0row6_col1 {\n",
       "            : ;\n",
       "            text-align:  left;\n",
       "        }    #T_f6fbaa68_e935_11ea_949a_9cb6d0f650c0row6_col2 {\n",
       "            : ;\n",
       "            text-align:  left;\n",
       "        }    #T_f6fbaa68_e935_11ea_949a_9cb6d0f650c0row6_col3 {\n",
       "            : ;\n",
       "            text-align:  left;\n",
       "        }    #T_f6fbaa68_e935_11ea_949a_9cb6d0f650c0row6_col4 {\n",
       "            : ;\n",
       "            text-align:  left;\n",
       "        }    #T_f6fbaa68_e935_11ea_949a_9cb6d0f650c0row6_col5 {\n",
       "            : ;\n",
       "            text-align:  left;\n",
       "        }    #T_f6fbaa68_e935_11ea_949a_9cb6d0f650c0row6_col6 {\n",
       "            : ;\n",
       "            text-align:  left;\n",
       "        }    #T_f6fbaa68_e935_11ea_949a_9cb6d0f650c0row6_col7 {\n",
       "            : ;\n",
       "            text-align:  left;\n",
       "        }    #T_f6fbaa68_e935_11ea_949a_9cb6d0f650c0row6_col8 {\n",
       "            background-color:  lightgrey;\n",
       "            text-align:  left;\n",
       "        }    #T_f6fbaa68_e935_11ea_949a_9cb6d0f650c0row7_col0 {\n",
       "            text-align:  left;\n",
       "        }    #T_f6fbaa68_e935_11ea_949a_9cb6d0f650c0row7_col1 {\n",
       "            : ;\n",
       "            text-align:  left;\n",
       "        }    #T_f6fbaa68_e935_11ea_949a_9cb6d0f650c0row7_col2 {\n",
       "            : ;\n",
       "            text-align:  left;\n",
       "        }    #T_f6fbaa68_e935_11ea_949a_9cb6d0f650c0row7_col3 {\n",
       "            : ;\n",
       "            text-align:  left;\n",
       "        }    #T_f6fbaa68_e935_11ea_949a_9cb6d0f650c0row7_col4 {\n",
       "            : ;\n",
       "            text-align:  left;\n",
       "        }    #T_f6fbaa68_e935_11ea_949a_9cb6d0f650c0row7_col5 {\n",
       "            : ;\n",
       "            text-align:  left;\n",
       "        }    #T_f6fbaa68_e935_11ea_949a_9cb6d0f650c0row7_col6 {\n",
       "            : ;\n",
       "            text-align:  left;\n",
       "        }    #T_f6fbaa68_e935_11ea_949a_9cb6d0f650c0row7_col7 {\n",
       "            : ;\n",
       "            text-align:  left;\n",
       "        }    #T_f6fbaa68_e935_11ea_949a_9cb6d0f650c0row7_col8 {\n",
       "            background-color:  lightgrey;\n",
       "            text-align:  left;\n",
       "        }    #T_f6fbaa68_e935_11ea_949a_9cb6d0f650c0row8_col0 {\n",
       "            text-align:  left;\n",
       "        }    #T_f6fbaa68_e935_11ea_949a_9cb6d0f650c0row8_col1 {\n",
       "            : ;\n",
       "            text-align:  left;\n",
       "        }    #T_f6fbaa68_e935_11ea_949a_9cb6d0f650c0row8_col2 {\n",
       "            : ;\n",
       "            text-align:  left;\n",
       "        }    #T_f6fbaa68_e935_11ea_949a_9cb6d0f650c0row8_col3 {\n",
       "            : ;\n",
       "            text-align:  left;\n",
       "        }    #T_f6fbaa68_e935_11ea_949a_9cb6d0f650c0row8_col4 {\n",
       "            : ;\n",
       "            text-align:  left;\n",
       "        }    #T_f6fbaa68_e935_11ea_949a_9cb6d0f650c0row8_col5 {\n",
       "            background-color:  yellow;\n",
       "            text-align:  left;\n",
       "        }    #T_f6fbaa68_e935_11ea_949a_9cb6d0f650c0row8_col6 {\n",
       "            : ;\n",
       "            text-align:  left;\n",
       "        }    #T_f6fbaa68_e935_11ea_949a_9cb6d0f650c0row8_col7 {\n",
       "            : ;\n",
       "            text-align:  left;\n",
       "        }    #T_f6fbaa68_e935_11ea_949a_9cb6d0f650c0row8_col8 {\n",
       "            background-color:  lightgrey;\n",
       "            text-align:  left;\n",
       "        }    #T_f6fbaa68_e935_11ea_949a_9cb6d0f650c0row9_col0 {\n",
       "            text-align:  left;\n",
       "        }    #T_f6fbaa68_e935_11ea_949a_9cb6d0f650c0row9_col1 {\n",
       "            : ;\n",
       "            text-align:  left;\n",
       "        }    #T_f6fbaa68_e935_11ea_949a_9cb6d0f650c0row9_col2 {\n",
       "            : ;\n",
       "            text-align:  left;\n",
       "        }    #T_f6fbaa68_e935_11ea_949a_9cb6d0f650c0row9_col3 {\n",
       "            : ;\n",
       "            text-align:  left;\n",
       "        }    #T_f6fbaa68_e935_11ea_949a_9cb6d0f650c0row9_col4 {\n",
       "            : ;\n",
       "            text-align:  left;\n",
       "        }    #T_f6fbaa68_e935_11ea_949a_9cb6d0f650c0row9_col5 {\n",
       "            : ;\n",
       "            text-align:  left;\n",
       "        }    #T_f6fbaa68_e935_11ea_949a_9cb6d0f650c0row9_col6 {\n",
       "            : ;\n",
       "            text-align:  left;\n",
       "        }    #T_f6fbaa68_e935_11ea_949a_9cb6d0f650c0row9_col7 {\n",
       "            : ;\n",
       "            text-align:  left;\n",
       "        }    #T_f6fbaa68_e935_11ea_949a_9cb6d0f650c0row9_col8 {\n",
       "            background-color:  lightgrey;\n",
       "            text-align:  left;\n",
       "        }    #T_f6fbaa68_e935_11ea_949a_9cb6d0f650c0row10_col0 {\n",
       "            text-align:  left;\n",
       "        }    #T_f6fbaa68_e935_11ea_949a_9cb6d0f650c0row10_col1 {\n",
       "            : ;\n",
       "            text-align:  left;\n",
       "        }    #T_f6fbaa68_e935_11ea_949a_9cb6d0f650c0row10_col2 {\n",
       "            : ;\n",
       "            text-align:  left;\n",
       "        }    #T_f6fbaa68_e935_11ea_949a_9cb6d0f650c0row10_col3 {\n",
       "            : ;\n",
       "            text-align:  left;\n",
       "        }    #T_f6fbaa68_e935_11ea_949a_9cb6d0f650c0row10_col4 {\n",
       "            : ;\n",
       "            text-align:  left;\n",
       "        }    #T_f6fbaa68_e935_11ea_949a_9cb6d0f650c0row10_col5 {\n",
       "            : ;\n",
       "            text-align:  left;\n",
       "        }    #T_f6fbaa68_e935_11ea_949a_9cb6d0f650c0row10_col6 {\n",
       "            : ;\n",
       "            text-align:  left;\n",
       "        }    #T_f6fbaa68_e935_11ea_949a_9cb6d0f650c0row10_col7 {\n",
       "            : ;\n",
       "            text-align:  left;\n",
       "        }    #T_f6fbaa68_e935_11ea_949a_9cb6d0f650c0row10_col8 {\n",
       "            background-color:  lightgrey;\n",
       "            text-align:  left;\n",
       "        }    #T_f6fbaa68_e935_11ea_949a_9cb6d0f650c0row11_col0 {\n",
       "            text-align:  left;\n",
       "        }    #T_f6fbaa68_e935_11ea_949a_9cb6d0f650c0row11_col1 {\n",
       "            : ;\n",
       "            text-align:  left;\n",
       "        }    #T_f6fbaa68_e935_11ea_949a_9cb6d0f650c0row11_col2 {\n",
       "            : ;\n",
       "            text-align:  left;\n",
       "        }    #T_f6fbaa68_e935_11ea_949a_9cb6d0f650c0row11_col3 {\n",
       "            : ;\n",
       "            text-align:  left;\n",
       "        }    #T_f6fbaa68_e935_11ea_949a_9cb6d0f650c0row11_col4 {\n",
       "            : ;\n",
       "            text-align:  left;\n",
       "        }    #T_f6fbaa68_e935_11ea_949a_9cb6d0f650c0row11_col5 {\n",
       "            : ;\n",
       "            text-align:  left;\n",
       "        }    #T_f6fbaa68_e935_11ea_949a_9cb6d0f650c0row11_col6 {\n",
       "            : ;\n",
       "            text-align:  left;\n",
       "        }    #T_f6fbaa68_e935_11ea_949a_9cb6d0f650c0row11_col7 {\n",
       "            : ;\n",
       "            text-align:  left;\n",
       "        }    #T_f6fbaa68_e935_11ea_949a_9cb6d0f650c0row11_col8 {\n",
       "            background-color:  lightgrey;\n",
       "            text-align:  left;\n",
       "        }    #T_f6fbaa68_e935_11ea_949a_9cb6d0f650c0row12_col0 {\n",
       "            text-align:  left;\n",
       "        }    #T_f6fbaa68_e935_11ea_949a_9cb6d0f650c0row12_col1 {\n",
       "            : ;\n",
       "            text-align:  left;\n",
       "        }    #T_f6fbaa68_e935_11ea_949a_9cb6d0f650c0row12_col2 {\n",
       "            : ;\n",
       "            text-align:  left;\n",
       "        }    #T_f6fbaa68_e935_11ea_949a_9cb6d0f650c0row12_col3 {\n",
       "            : ;\n",
       "            text-align:  left;\n",
       "        }    #T_f6fbaa68_e935_11ea_949a_9cb6d0f650c0row12_col4 {\n",
       "            : ;\n",
       "            text-align:  left;\n",
       "        }    #T_f6fbaa68_e935_11ea_949a_9cb6d0f650c0row12_col5 {\n",
       "            : ;\n",
       "            text-align:  left;\n",
       "        }    #T_f6fbaa68_e935_11ea_949a_9cb6d0f650c0row12_col6 {\n",
       "            : ;\n",
       "            text-align:  left;\n",
       "        }    #T_f6fbaa68_e935_11ea_949a_9cb6d0f650c0row12_col7 {\n",
       "            : ;\n",
       "            text-align:  left;\n",
       "        }    #T_f6fbaa68_e935_11ea_949a_9cb6d0f650c0row12_col8 {\n",
       "            background-color:  lightgrey;\n",
       "            text-align:  left;\n",
       "        }    #T_f6fbaa68_e935_11ea_949a_9cb6d0f650c0row13_col0 {\n",
       "            text-align:  left;\n",
       "        }    #T_f6fbaa68_e935_11ea_949a_9cb6d0f650c0row13_col1 {\n",
       "            : ;\n",
       "            text-align:  left;\n",
       "        }    #T_f6fbaa68_e935_11ea_949a_9cb6d0f650c0row13_col2 {\n",
       "            : ;\n",
       "            text-align:  left;\n",
       "        }    #T_f6fbaa68_e935_11ea_949a_9cb6d0f650c0row13_col3 {\n",
       "            : ;\n",
       "            text-align:  left;\n",
       "        }    #T_f6fbaa68_e935_11ea_949a_9cb6d0f650c0row13_col4 {\n",
       "            : ;\n",
       "            text-align:  left;\n",
       "        }    #T_f6fbaa68_e935_11ea_949a_9cb6d0f650c0row13_col5 {\n",
       "            : ;\n",
       "            text-align:  left;\n",
       "        }    #T_f6fbaa68_e935_11ea_949a_9cb6d0f650c0row13_col6 {\n",
       "            : ;\n",
       "            text-align:  left;\n",
       "        }    #T_f6fbaa68_e935_11ea_949a_9cb6d0f650c0row13_col7 {\n",
       "            : ;\n",
       "            text-align:  left;\n",
       "        }    #T_f6fbaa68_e935_11ea_949a_9cb6d0f650c0row13_col8 {\n",
       "            background-color:  lightgrey;\n",
       "            text-align:  left;\n",
       "        }    #T_f6fbaa68_e935_11ea_949a_9cb6d0f650c0row14_col0 {\n",
       "            text-align:  left;\n",
       "        }    #T_f6fbaa68_e935_11ea_949a_9cb6d0f650c0row14_col1 {\n",
       "            : ;\n",
       "            text-align:  left;\n",
       "        }    #T_f6fbaa68_e935_11ea_949a_9cb6d0f650c0row14_col2 {\n",
       "            : ;\n",
       "            text-align:  left;\n",
       "        }    #T_f6fbaa68_e935_11ea_949a_9cb6d0f650c0row14_col3 {\n",
       "            background-color:  yellow;\n",
       "            text-align:  left;\n",
       "        }    #T_f6fbaa68_e935_11ea_949a_9cb6d0f650c0row14_col4 {\n",
       "            : ;\n",
       "            text-align:  left;\n",
       "        }    #T_f6fbaa68_e935_11ea_949a_9cb6d0f650c0row14_col5 {\n",
       "            : ;\n",
       "            text-align:  left;\n",
       "        }    #T_f6fbaa68_e935_11ea_949a_9cb6d0f650c0row14_col6 {\n",
       "            : ;\n",
       "            text-align:  left;\n",
       "        }    #T_f6fbaa68_e935_11ea_949a_9cb6d0f650c0row14_col7 {\n",
       "            : ;\n",
       "            text-align:  left;\n",
       "        }    #T_f6fbaa68_e935_11ea_949a_9cb6d0f650c0row14_col8 {\n",
       "            background-color:  lightgrey;\n",
       "            text-align:  left;\n",
       "        }</style><table id=\"T_f6fbaa68_e935_11ea_949a_9cb6d0f650c0\" ><thead>    <tr>        <th class=\"blank level0\" ></th>        <th class=\"col_heading level0 col0\" >Model</th>        <th class=\"col_heading level0 col1\" >Accuracy</th>        <th class=\"col_heading level0 col2\" >AUC</th>        <th class=\"col_heading level0 col3\" >Recall</th>        <th class=\"col_heading level0 col4\" >Prec.</th>        <th class=\"col_heading level0 col5\" >F1</th>        <th class=\"col_heading level0 col6\" >Kappa</th>        <th class=\"col_heading level0 col7\" >MCC</th>        <th class=\"col_heading level0 col8\" >TT (Sec)</th>    </tr></thead><tbody>\n",
       "                <tr>\n",
       "                        <th id=\"T_f6fbaa68_e935_11ea_949a_9cb6d0f650c0level0_row0\" class=\"row_heading level0 row0\" >0</th>\n",
       "                        <td id=\"T_f6fbaa68_e935_11ea_949a_9cb6d0f650c0row0_col0\" class=\"data row0 col0\" >Extreme Gradient Boosting</td>\n",
       "                        <td id=\"T_f6fbaa68_e935_11ea_949a_9cb6d0f650c0row0_col1\" class=\"data row0 col1\" >0.9004</td>\n",
       "                        <td id=\"T_f6fbaa68_e935_11ea_949a_9cb6d0f650c0row0_col2\" class=\"data row0 col2\" >0.7609</td>\n",
       "                        <td id=\"T_f6fbaa68_e935_11ea_949a_9cb6d0f650c0row0_col3\" class=\"data row0 col3\" >0.2297</td>\n",
       "                        <td id=\"T_f6fbaa68_e935_11ea_949a_9cb6d0f650c0row0_col4\" class=\"data row0 col4\" >0.8541</td>\n",
       "                        <td id=\"T_f6fbaa68_e935_11ea_949a_9cb6d0f650c0row0_col5\" class=\"data row0 col5\" >0.3614</td>\n",
       "                        <td id=\"T_f6fbaa68_e935_11ea_949a_9cb6d0f650c0row0_col6\" class=\"data row0 col6\" >0.3264</td>\n",
       "                        <td id=\"T_f6fbaa68_e935_11ea_949a_9cb6d0f650c0row0_col7\" class=\"data row0 col7\" >0.4112</td>\n",
       "                        <td id=\"T_f6fbaa68_e935_11ea_949a_9cb6d0f650c0row0_col8\" class=\"data row0 col8\" >11.6315</td>\n",
       "            </tr>\n",
       "            <tr>\n",
       "                        <th id=\"T_f6fbaa68_e935_11ea_949a_9cb6d0f650c0level0_row1\" class=\"row_heading level0 row1\" >1</th>\n",
       "                        <td id=\"T_f6fbaa68_e935_11ea_949a_9cb6d0f650c0row1_col0\" class=\"data row1 col0\" >CatBoost Classifier</td>\n",
       "                        <td id=\"T_f6fbaa68_e935_11ea_949a_9cb6d0f650c0row1_col1\" class=\"data row1 col1\" >0.8995</td>\n",
       "                        <td id=\"T_f6fbaa68_e935_11ea_949a_9cb6d0f650c0row1_col2\" class=\"data row1 col2\" >0.7619</td>\n",
       "                        <td id=\"T_f6fbaa68_e935_11ea_949a_9cb6d0f650c0row1_col3\" class=\"data row1 col3\" >0.2366</td>\n",
       "                        <td id=\"T_f6fbaa68_e935_11ea_949a_9cb6d0f650c0row1_col4\" class=\"data row1 col4\" >0.8172</td>\n",
       "                        <td id=\"T_f6fbaa68_e935_11ea_949a_9cb6d0f650c0row1_col5\" class=\"data row1 col5\" >0.3660</td>\n",
       "                        <td id=\"T_f6fbaa68_e935_11ea_949a_9cb6d0f650c0row1_col6\" class=\"data row1 col6\" >0.3291</td>\n",
       "                        <td id=\"T_f6fbaa68_e935_11ea_949a_9cb6d0f650c0row1_col7\" class=\"data row1 col7\" >0.4054</td>\n",
       "                        <td id=\"T_f6fbaa68_e935_11ea_949a_9cb6d0f650c0row1_col8\" class=\"data row1 col8\" >15.7022</td>\n",
       "            </tr>\n",
       "            <tr>\n",
       "                        <th id=\"T_f6fbaa68_e935_11ea_949a_9cb6d0f650c0level0_row2\" class=\"row_heading level0 row2\" >2</th>\n",
       "                        <td id=\"T_f6fbaa68_e935_11ea_949a_9cb6d0f650c0row2_col0\" class=\"data row2 col0\" >Light Gradient Boosting Machine</td>\n",
       "                        <td id=\"T_f6fbaa68_e935_11ea_949a_9cb6d0f650c0row2_col1\" class=\"data row2 col1\" >0.8994</td>\n",
       "                        <td id=\"T_f6fbaa68_e935_11ea_949a_9cb6d0f650c0row2_col2\" class=\"data row2 col2\" >0.7526</td>\n",
       "                        <td id=\"T_f6fbaa68_e935_11ea_949a_9cb6d0f650c0row2_col3\" class=\"data row2 col3\" >0.2409</td>\n",
       "                        <td id=\"T_f6fbaa68_e935_11ea_949a_9cb6d0f650c0row2_col4\" class=\"data row2 col4\" >0.8063</td>\n",
       "                        <td id=\"T_f6fbaa68_e935_11ea_949a_9cb6d0f650c0row2_col5\" class=\"data row2 col5\" >0.3705</td>\n",
       "                        <td id=\"T_f6fbaa68_e935_11ea_949a_9cb6d0f650c0row2_col6\" class=\"data row2 col6\" >0.3328</td>\n",
       "                        <td id=\"T_f6fbaa68_e935_11ea_949a_9cb6d0f650c0row2_col7\" class=\"data row2 col7\" >0.4060</td>\n",
       "                        <td id=\"T_f6fbaa68_e935_11ea_949a_9cb6d0f650c0row2_col8\" class=\"data row2 col8\" >1.4544</td>\n",
       "            </tr>\n",
       "            <tr>\n",
       "                        <th id=\"T_f6fbaa68_e935_11ea_949a_9cb6d0f650c0level0_row3\" class=\"row_heading level0 row3\" >3</th>\n",
       "                        <td id=\"T_f6fbaa68_e935_11ea_949a_9cb6d0f650c0row3_col0\" class=\"data row3 col0\" >Gradient Boosting Classifier</td>\n",
       "                        <td id=\"T_f6fbaa68_e935_11ea_949a_9cb6d0f650c0row3_col1\" class=\"data row3 col1\" >0.8992</td>\n",
       "                        <td id=\"T_f6fbaa68_e935_11ea_949a_9cb6d0f650c0row3_col2\" class=\"data row3 col2\" >0.7553</td>\n",
       "                        <td id=\"T_f6fbaa68_e935_11ea_949a_9cb6d0f650c0row3_col3\" class=\"data row3 col3\" >0.2334</td>\n",
       "                        <td id=\"T_f6fbaa68_e935_11ea_949a_9cb6d0f650c0row3_col4\" class=\"data row3 col4\" >0.8154</td>\n",
       "                        <td id=\"T_f6fbaa68_e935_11ea_949a_9cb6d0f650c0row3_col5\" class=\"data row3 col5\" >0.3625</td>\n",
       "                        <td id=\"T_f6fbaa68_e935_11ea_949a_9cb6d0f650c0row3_col6\" class=\"data row3 col6\" >0.3256</td>\n",
       "                        <td id=\"T_f6fbaa68_e935_11ea_949a_9cb6d0f650c0row3_col7\" class=\"data row3 col7\" >0.4023</td>\n",
       "                        <td id=\"T_f6fbaa68_e935_11ea_949a_9cb6d0f650c0row3_col8\" class=\"data row3 col8\" >38.1254</td>\n",
       "            </tr>\n",
       "            <tr>\n",
       "                        <th id=\"T_f6fbaa68_e935_11ea_949a_9cb6d0f650c0level0_row4\" class=\"row_heading level0 row4\" >4</th>\n",
       "                        <td id=\"T_f6fbaa68_e935_11ea_949a_9cb6d0f650c0row4_col0\" class=\"data row4 col0\" >Extra Trees Classifier</td>\n",
       "                        <td id=\"T_f6fbaa68_e935_11ea_949a_9cb6d0f650c0row4_col1\" class=\"data row4 col1\" >0.8974</td>\n",
       "                        <td id=\"T_f6fbaa68_e935_11ea_949a_9cb6d0f650c0row4_col2\" class=\"data row4 col2\" >0.7335</td>\n",
       "                        <td id=\"T_f6fbaa68_e935_11ea_949a_9cb6d0f650c0row4_col3\" class=\"data row4 col3\" >0.2393</td>\n",
       "                        <td id=\"T_f6fbaa68_e935_11ea_949a_9cb6d0f650c0row4_col4\" class=\"data row4 col4\" >0.7679</td>\n",
       "                        <td id=\"T_f6fbaa68_e935_11ea_949a_9cb6d0f650c0row4_col5\" class=\"data row4 col5\" >0.3641</td>\n",
       "                        <td id=\"T_f6fbaa68_e935_11ea_949a_9cb6d0f650c0row4_col6\" class=\"data row4 col6\" >0.3247</td>\n",
       "                        <td id=\"T_f6fbaa68_e935_11ea_949a_9cb6d0f650c0row4_col7\" class=\"data row4 col7\" >0.3914</td>\n",
       "                        <td id=\"T_f6fbaa68_e935_11ea_949a_9cb6d0f650c0row4_col8\" class=\"data row4 col8\" >5.2762</td>\n",
       "            </tr>\n",
       "            <tr>\n",
       "                        <th id=\"T_f6fbaa68_e935_11ea_949a_9cb6d0f650c0level0_row5\" class=\"row_heading level0 row5\" >5</th>\n",
       "                        <td id=\"T_f6fbaa68_e935_11ea_949a_9cb6d0f650c0row5_col0\" class=\"data row5 col0\" >Ada Boost Classifier</td>\n",
       "                        <td id=\"T_f6fbaa68_e935_11ea_949a_9cb6d0f650c0row5_col1\" class=\"data row5 col1\" >0.8934</td>\n",
       "                        <td id=\"T_f6fbaa68_e935_11ea_949a_9cb6d0f650c0row5_col2\" class=\"data row5 col2\" >0.7452</td>\n",
       "                        <td id=\"T_f6fbaa68_e935_11ea_949a_9cb6d0f650c0row5_col3\" class=\"data row5 col3\" >0.2239</td>\n",
       "                        <td id=\"T_f6fbaa68_e935_11ea_949a_9cb6d0f650c0row5_col4\" class=\"data row5 col4\" >0.7129</td>\n",
       "                        <td id=\"T_f6fbaa68_e935_11ea_949a_9cb6d0f650c0row5_col5\" class=\"data row5 col5\" >0.3404</td>\n",
       "                        <td id=\"T_f6fbaa68_e935_11ea_949a_9cb6d0f650c0row5_col6\" class=\"data row5 col6\" >0.2993</td>\n",
       "                        <td id=\"T_f6fbaa68_e935_11ea_949a_9cb6d0f650c0row5_col7\" class=\"data row5 col7\" >0.3598</td>\n",
       "                        <td id=\"T_f6fbaa68_e935_11ea_949a_9cb6d0f650c0row5_col8\" class=\"data row5 col8\" >18.3566</td>\n",
       "            </tr>\n",
       "            <tr>\n",
       "                        <th id=\"T_f6fbaa68_e935_11ea_949a_9cb6d0f650c0level0_row6\" class=\"row_heading level0 row6\" >6</th>\n",
       "                        <td id=\"T_f6fbaa68_e935_11ea_949a_9cb6d0f650c0row6_col0\" class=\"data row6 col0\" >Random Forest Classifier</td>\n",
       "                        <td id=\"T_f6fbaa68_e935_11ea_949a_9cb6d0f650c0row6_col1\" class=\"data row6 col1\" >0.8923</td>\n",
       "                        <td id=\"T_f6fbaa68_e935_11ea_949a_9cb6d0f650c0row6_col2\" class=\"data row6 col2\" >0.6951</td>\n",
       "                        <td id=\"T_f6fbaa68_e935_11ea_949a_9cb6d0f650c0row6_col3\" class=\"data row6 col3\" >0.1889</td>\n",
       "                        <td id=\"T_f6fbaa68_e935_11ea_949a_9cb6d0f650c0row6_col4\" class=\"data row6 col4\" >0.7517</td>\n",
       "                        <td id=\"T_f6fbaa68_e935_11ea_949a_9cb6d0f650c0row6_col5\" class=\"data row6 col5\" >0.3008</td>\n",
       "                        <td id=\"T_f6fbaa68_e935_11ea_949a_9cb6d0f650c0row6_col6\" class=\"data row6 col6\" >0.2644</td>\n",
       "                        <td id=\"T_f6fbaa68_e935_11ea_949a_9cb6d0f650c0row6_col7\" class=\"data row6 col7\" >0.3406</td>\n",
       "                        <td id=\"T_f6fbaa68_e935_11ea_949a_9cb6d0f650c0row6_col8\" class=\"data row6 col8\" >0.5674</td>\n",
       "            </tr>\n",
       "            <tr>\n",
       "                        <th id=\"T_f6fbaa68_e935_11ea_949a_9cb6d0f650c0level0_row7\" class=\"row_heading level0 row7\" >7</th>\n",
       "                        <td id=\"T_f6fbaa68_e935_11ea_949a_9cb6d0f650c0row7_col0\" class=\"data row7 col0\" >Ridge Classifier</td>\n",
       "                        <td id=\"T_f6fbaa68_e935_11ea_949a_9cb6d0f650c0row7_col1\" class=\"data row7 col1\" >0.8919</td>\n",
       "                        <td id=\"T_f6fbaa68_e935_11ea_949a_9cb6d0f650c0row7_col2\" class=\"data row7 col2\" >0.0000</td>\n",
       "                        <td id=\"T_f6fbaa68_e935_11ea_949a_9cb6d0f650c0row7_col3\" class=\"data row7 col3\" >0.2594</td>\n",
       "                        <td id=\"T_f6fbaa68_e935_11ea_949a_9cb6d0f650c0row7_col4\" class=\"data row7 col4\" >0.6523</td>\n",
       "                        <td id=\"T_f6fbaa68_e935_11ea_949a_9cb6d0f650c0row7_col5\" class=\"data row7 col5\" >0.3705</td>\n",
       "                        <td id=\"T_f6fbaa68_e935_11ea_949a_9cb6d0f650c0row7_col6\" class=\"data row7 col6\" >0.3233</td>\n",
       "                        <td id=\"T_f6fbaa68_e935_11ea_949a_9cb6d0f650c0row7_col7\" class=\"data row7 col7\" >0.3651</td>\n",
       "                        <td id=\"T_f6fbaa68_e935_11ea_949a_9cb6d0f650c0row7_col8\" class=\"data row7 col8\" >1.8079</td>\n",
       "            </tr>\n",
       "            <tr>\n",
       "                        <th id=\"T_f6fbaa68_e935_11ea_949a_9cb6d0f650c0level0_row8\" class=\"row_heading level0 row8\" >8</th>\n",
       "                        <td id=\"T_f6fbaa68_e935_11ea_949a_9cb6d0f650c0row8_col0\" class=\"data row8 col0\" >Linear Discriminant Analysis</td>\n",
       "                        <td id=\"T_f6fbaa68_e935_11ea_949a_9cb6d0f650c0row8_col1\" class=\"data row8 col1\" >0.8818</td>\n",
       "                        <td id=\"T_f6fbaa68_e935_11ea_949a_9cb6d0f650c0row8_col2\" class=\"data row8 col2\" >0.7187</td>\n",
       "                        <td id=\"T_f6fbaa68_e935_11ea_949a_9cb6d0f650c0row8_col3\" class=\"data row8 col3\" >0.2960</td>\n",
       "                        <td id=\"T_f6fbaa68_e935_11ea_949a_9cb6d0f650c0row8_col4\" class=\"data row8 col4\" >0.5353</td>\n",
       "                        <td id=\"T_f6fbaa68_e935_11ea_949a_9cb6d0f650c0row8_col5\" class=\"data row8 col5\" >0.3809</td>\n",
       "                        <td id=\"T_f6fbaa68_e935_11ea_949a_9cb6d0f650c0row8_col6\" class=\"data row8 col6\" >0.3216</td>\n",
       "                        <td id=\"T_f6fbaa68_e935_11ea_949a_9cb6d0f650c0row8_col7\" class=\"data row8 col7\" >0.3390</td>\n",
       "                        <td id=\"T_f6fbaa68_e935_11ea_949a_9cb6d0f650c0row8_col8\" class=\"data row8 col8\" >11.6942</td>\n",
       "            </tr>\n",
       "            <tr>\n",
       "                        <th id=\"T_f6fbaa68_e935_11ea_949a_9cb6d0f650c0level0_row9\" class=\"row_heading level0 row9\" >9</th>\n",
       "                        <td id=\"T_f6fbaa68_e935_11ea_949a_9cb6d0f650c0row9_col0\" class=\"data row9 col0\" >Logistic Regression</td>\n",
       "                        <td id=\"T_f6fbaa68_e935_11ea_949a_9cb6d0f650c0row9_col1\" class=\"data row9 col1\" >0.8770</td>\n",
       "                        <td id=\"T_f6fbaa68_e935_11ea_949a_9cb6d0f650c0row9_col2\" class=\"data row9 col2\" >0.6317</td>\n",
       "                        <td id=\"T_f6fbaa68_e935_11ea_949a_9cb6d0f650c0row9_col3\" class=\"data row9 col3\" >0.0000</td>\n",
       "                        <td id=\"T_f6fbaa68_e935_11ea_949a_9cb6d0f650c0row9_col4\" class=\"data row9 col4\" >0.0000</td>\n",
       "                        <td id=\"T_f6fbaa68_e935_11ea_949a_9cb6d0f650c0row9_col5\" class=\"data row9 col5\" >0.0000</td>\n",
       "                        <td id=\"T_f6fbaa68_e935_11ea_949a_9cb6d0f650c0row9_col6\" class=\"data row9 col6\" >0.0000</td>\n",
       "                        <td id=\"T_f6fbaa68_e935_11ea_949a_9cb6d0f650c0row9_col7\" class=\"data row9 col7\" >0.0000</td>\n",
       "                        <td id=\"T_f6fbaa68_e935_11ea_949a_9cb6d0f650c0row9_col8\" class=\"data row9 col8\" >3.0134</td>\n",
       "            </tr>\n",
       "            <tr>\n",
       "                        <th id=\"T_f6fbaa68_e935_11ea_949a_9cb6d0f650c0level0_row10\" class=\"row_heading level0 row10\" >10</th>\n",
       "                        <td id=\"T_f6fbaa68_e935_11ea_949a_9cb6d0f650c0row10_col0\" class=\"data row10 col0\" >K Neighbors Classifier</td>\n",
       "                        <td id=\"T_f6fbaa68_e935_11ea_949a_9cb6d0f650c0row10_col1\" class=\"data row10 col1\" >0.8636</td>\n",
       "                        <td id=\"T_f6fbaa68_e935_11ea_949a_9cb6d0f650c0row10_col2\" class=\"data row10 col2\" >0.5760</td>\n",
       "                        <td id=\"T_f6fbaa68_e935_11ea_949a_9cb6d0f650c0row10_col3\" class=\"data row10 col3\" >0.0531</td>\n",
       "                        <td id=\"T_f6fbaa68_e935_11ea_949a_9cb6d0f650c0row10_col4\" class=\"data row10 col4\" >0.2484</td>\n",
       "                        <td id=\"T_f6fbaa68_e935_11ea_949a_9cb6d0f650c0row10_col5\" class=\"data row10 col5\" >0.0873</td>\n",
       "                        <td id=\"T_f6fbaa68_e935_11ea_949a_9cb6d0f650c0row10_col6\" class=\"data row10 col6\" >0.0457</td>\n",
       "                        <td id=\"T_f6fbaa68_e935_11ea_949a_9cb6d0f650c0row10_col7\" class=\"data row10 col7\" >0.0624</td>\n",
       "                        <td id=\"T_f6fbaa68_e935_11ea_949a_9cb6d0f650c0row10_col8\" class=\"data row10 col8\" >9.4534</td>\n",
       "            </tr>\n",
       "            <tr>\n",
       "                        <th id=\"T_f6fbaa68_e935_11ea_949a_9cb6d0f650c0level0_row11\" class=\"row_heading level0 row11\" >11</th>\n",
       "                        <td id=\"T_f6fbaa68_e935_11ea_949a_9cb6d0f650c0row11_col0\" class=\"data row11 col0\" >Decision Tree Classifier</td>\n",
       "                        <td id=\"T_f6fbaa68_e935_11ea_949a_9cb6d0f650c0row11_col1\" class=\"data row11 col1\" >0.8347</td>\n",
       "                        <td id=\"T_f6fbaa68_e935_11ea_949a_9cb6d0f650c0row11_col2\" class=\"data row11 col2\" >0.6205</td>\n",
       "                        <td id=\"T_f6fbaa68_e935_11ea_949a_9cb6d0f650c0row11_col3\" class=\"data row11 col3\" >0.3363</td>\n",
       "                        <td id=\"T_f6fbaa68_e935_11ea_949a_9cb6d0f650c0row11_col4\" class=\"data row11 col4\" >0.3314</td>\n",
       "                        <td id=\"T_f6fbaa68_e935_11ea_949a_9cb6d0f650c0row11_col5\" class=\"data row11 col5\" >0.3334</td>\n",
       "                        <td id=\"T_f6fbaa68_e935_11ea_949a_9cb6d0f650c0row11_col6\" class=\"data row11 col6\" >0.2392</td>\n",
       "                        <td id=\"T_f6fbaa68_e935_11ea_949a_9cb6d0f650c0row11_col7\" class=\"data row11 col7\" >0.2394</td>\n",
       "                        <td id=\"T_f6fbaa68_e935_11ea_949a_9cb6d0f650c0row11_col8\" class=\"data row11 col8\" >4.9732</td>\n",
       "            </tr>\n",
       "            <tr>\n",
       "                        <th id=\"T_f6fbaa68_e935_11ea_949a_9cb6d0f650c0level0_row12\" class=\"row_heading level0 row12\" >12</th>\n",
       "                        <td id=\"T_f6fbaa68_e935_11ea_949a_9cb6d0f650c0row12_col0\" class=\"data row12 col0\" >SVM - Linear Kernel</td>\n",
       "                        <td id=\"T_f6fbaa68_e935_11ea_949a_9cb6d0f650c0row12_col1\" class=\"data row12 col1\" >0.7689</td>\n",
       "                        <td id=\"T_f6fbaa68_e935_11ea_949a_9cb6d0f650c0row12_col2\" class=\"data row12 col2\" >0.0000</td>\n",
       "                        <td id=\"T_f6fbaa68_e935_11ea_949a_9cb6d0f650c0row12_col3\" class=\"data row12 col3\" >0.1676</td>\n",
       "                        <td id=\"T_f6fbaa68_e935_11ea_949a_9cb6d0f650c0row12_col4\" class=\"data row12 col4\" >0.0919</td>\n",
       "                        <td id=\"T_f6fbaa68_e935_11ea_949a_9cb6d0f650c0row12_col5\" class=\"data row12 col5\" >0.0845</td>\n",
       "                        <td id=\"T_f6fbaa68_e935_11ea_949a_9cb6d0f650c0row12_col6\" class=\"data row12 col6\" >0.0131</td>\n",
       "                        <td id=\"T_f6fbaa68_e935_11ea_949a_9cb6d0f650c0row12_col7\" class=\"data row12 col7\" >0.0215</td>\n",
       "                        <td id=\"T_f6fbaa68_e935_11ea_949a_9cb6d0f650c0row12_col8\" class=\"data row12 col8\" >14.5134</td>\n",
       "            </tr>\n",
       "            <tr>\n",
       "                        <th id=\"T_f6fbaa68_e935_11ea_949a_9cb6d0f650c0level0_row13\" class=\"row_heading level0 row13\" >13</th>\n",
       "                        <td id=\"T_f6fbaa68_e935_11ea_949a_9cb6d0f650c0row13_col0\" class=\"data row13 col0\" >Naive Bayes</td>\n",
       "                        <td id=\"T_f6fbaa68_e935_11ea_949a_9cb6d0f650c0row13_col1\" class=\"data row13 col1\" >0.7634</td>\n",
       "                        <td id=\"T_f6fbaa68_e935_11ea_949a_9cb6d0f650c0row13_col2\" class=\"data row13 col2\" >0.6645</td>\n",
       "                        <td id=\"T_f6fbaa68_e935_11ea_949a_9cb6d0f650c0row13_col3\" class=\"data row13 col3\" >0.3915</td>\n",
       "                        <td id=\"T_f6fbaa68_e935_11ea_949a_9cb6d0f650c0row13_col4\" class=\"data row13 col4\" >0.2294</td>\n",
       "                        <td id=\"T_f6fbaa68_e935_11ea_949a_9cb6d0f650c0row13_col5\" class=\"data row13 col5\" >0.2892</td>\n",
       "                        <td id=\"T_f6fbaa68_e935_11ea_949a_9cb6d0f650c0row13_col6\" class=\"data row13 col6\" >0.1587</td>\n",
       "                        <td id=\"T_f6fbaa68_e935_11ea_949a_9cb6d0f650c0row13_col7\" class=\"data row13 col7\" >0.1670</td>\n",
       "                        <td id=\"T_f6fbaa68_e935_11ea_949a_9cb6d0f650c0row13_col8\" class=\"data row13 col8\" >1.0282</td>\n",
       "            </tr>\n",
       "            <tr>\n",
       "                        <th id=\"T_f6fbaa68_e935_11ea_949a_9cb6d0f650c0level0_row14\" class=\"row_heading level0 row14\" >14</th>\n",
       "                        <td id=\"T_f6fbaa68_e935_11ea_949a_9cb6d0f650c0row14_col0\" class=\"data row14 col0\" >Quadratic Discriminant Analysis</td>\n",
       "                        <td id=\"T_f6fbaa68_e935_11ea_949a_9cb6d0f650c0row14_col1\" class=\"data row14 col1\" >0.2366</td>\n",
       "                        <td id=\"T_f6fbaa68_e935_11ea_949a_9cb6d0f650c0row14_col2\" class=\"data row14 col2\" >0.5030</td>\n",
       "                        <td id=\"T_f6fbaa68_e935_11ea_949a_9cb6d0f650c0row14_col3\" class=\"data row14 col3\" >0.8563</td>\n",
       "                        <td id=\"T_f6fbaa68_e935_11ea_949a_9cb6d0f650c0row14_col4\" class=\"data row14 col4\" >0.1237</td>\n",
       "                        <td id=\"T_f6fbaa68_e935_11ea_949a_9cb6d0f650c0row14_col5\" class=\"data row14 col5\" >0.2162</td>\n",
       "                        <td id=\"T_f6fbaa68_e935_11ea_949a_9cb6d0f650c0row14_col6\" class=\"data row14 col6\" >0.0017</td>\n",
       "                        <td id=\"T_f6fbaa68_e935_11ea_949a_9cb6d0f650c0row14_col7\" class=\"data row14 col7\" >0.0056</td>\n",
       "                        <td id=\"T_f6fbaa68_e935_11ea_949a_9cb6d0f650c0row14_col8\" class=\"data row14 col8\" >9.8009</td>\n",
       "            </tr>\n",
       "    </tbody></table>"
      ],
      "text/plain": [
       "<pandas.io.formats.style.Styler at 0x14a559d58c8>"
      ]
     },
     "metadata": {},
     "output_type": "display_data"
    },
    {
     "data": {
      "text/plain": [
       "XGBClassifier(base_score=0.5, booster='gbtree', colsample_bylevel=1,\n",
       "              colsample_bynode=1, colsample_bytree=1, gamma=0,\n",
       "              learning_rate=0.1, max_delta_step=0, max_depth=3,\n",
       "              min_child_weight=1, missing=None, n_estimators=100, n_jobs=-1,\n",
       "              nthread=None, objective='binary:logistic', random_state=4383,\n",
       "              reg_alpha=0, reg_lambda=1, scale_pos_weight=1, seed=None,\n",
       "              silent=None, subsample=1, verbosity=0)"
      ]
     },
     "execution_count": 10,
     "metadata": {},
     "output_type": "execute_result"
    }
   ],
   "source": [
    "compare_models()"
   ]
  },
  {
   "cell_type": "code",
   "execution_count": 34,
   "metadata": {},
   "outputs": [
    {
     "data": {
      "text/html": [
       "<style  type=\"text/css\" >\n",
       "    #T_925cc4e2_0fb6_11eb_9719_9cb6d0f650c0row5_col0 {\n",
       "            background:  yellow;\n",
       "        }    #T_925cc4e2_0fb6_11eb_9719_9cb6d0f650c0row5_col1 {\n",
       "            background:  yellow;\n",
       "        }    #T_925cc4e2_0fb6_11eb_9719_9cb6d0f650c0row5_col2 {\n",
       "            background:  yellow;\n",
       "        }    #T_925cc4e2_0fb6_11eb_9719_9cb6d0f650c0row5_col3 {\n",
       "            background:  yellow;\n",
       "        }    #T_925cc4e2_0fb6_11eb_9719_9cb6d0f650c0row5_col4 {\n",
       "            background:  yellow;\n",
       "        }    #T_925cc4e2_0fb6_11eb_9719_9cb6d0f650c0row5_col5 {\n",
       "            background:  yellow;\n",
       "        }    #T_925cc4e2_0fb6_11eb_9719_9cb6d0f650c0row5_col6 {\n",
       "            background:  yellow;\n",
       "        }</style><table id=\"T_925cc4e2_0fb6_11eb_9719_9cb6d0f650c0\" ><thead>    <tr>        <th class=\"blank level0\" ></th>        <th class=\"col_heading level0 col0\" >Accuracy</th>        <th class=\"col_heading level0 col1\" >AUC</th>        <th class=\"col_heading level0 col2\" >Recall</th>        <th class=\"col_heading level0 col3\" >Prec.</th>        <th class=\"col_heading level0 col4\" >F1</th>        <th class=\"col_heading level0 col5\" >Kappa</th>        <th class=\"col_heading level0 col6\" >MCC</th>    </tr></thead><tbody>\n",
       "                <tr>\n",
       "                        <th id=\"T_925cc4e2_0fb6_11eb_9719_9cb6d0f650c0level0_row0\" class=\"row_heading level0 row0\" >0</th>\n",
       "                        <td id=\"T_925cc4e2_0fb6_11eb_9719_9cb6d0f650c0row0_col0\" class=\"data row0 col0\" >0.9027</td>\n",
       "                        <td id=\"T_925cc4e2_0fb6_11eb_9719_9cb6d0f650c0row0_col1\" class=\"data row0 col1\" >0.7752</td>\n",
       "                        <td id=\"T_925cc4e2_0fb6_11eb_9719_9cb6d0f650c0row0_col2\" class=\"data row0 col2\" >0.2520</td>\n",
       "                        <td id=\"T_925cc4e2_0fb6_11eb_9719_9cb6d0f650c0row0_col3\" class=\"data row0 col3\" >0.8533</td>\n",
       "                        <td id=\"T_925cc4e2_0fb6_11eb_9719_9cb6d0f650c0row0_col4\" class=\"data row0 col4\" >0.3891</td>\n",
       "                        <td id=\"T_925cc4e2_0fb6_11eb_9719_9cb6d0f650c0row0_col5\" class=\"data row0 col5\" >0.3528</td>\n",
       "                        <td id=\"T_925cc4e2_0fb6_11eb_9719_9cb6d0f650c0row0_col6\" class=\"data row0 col6\" >0.4317</td>\n",
       "            </tr>\n",
       "            <tr>\n",
       "                        <th id=\"T_925cc4e2_0fb6_11eb_9719_9cb6d0f650c0level0_row1\" class=\"row_heading level0 row1\" >1</th>\n",
       "                        <td id=\"T_925cc4e2_0fb6_11eb_9719_9cb6d0f650c0row1_col0\" class=\"data row1 col0\" >0.9016</td>\n",
       "                        <td id=\"T_925cc4e2_0fb6_11eb_9719_9cb6d0f650c0row1_col1\" class=\"data row1 col1\" >0.7527</td>\n",
       "                        <td id=\"T_925cc4e2_0fb6_11eb_9719_9cb6d0f650c0row1_col2\" class=\"data row1 col2\" >0.2396</td>\n",
       "                        <td id=\"T_925cc4e2_0fb6_11eb_9719_9cb6d0f650c0row1_col3\" class=\"data row1 col3\" >0.8576</td>\n",
       "                        <td id=\"T_925cc4e2_0fb6_11eb_9719_9cb6d0f650c0row1_col4\" class=\"data row1 col4\" >0.3746</td>\n",
       "                        <td id=\"T_925cc4e2_0fb6_11eb_9719_9cb6d0f650c0row1_col5\" class=\"data row1 col5\" >0.3391</td>\n",
       "                        <td id=\"T_925cc4e2_0fb6_11eb_9719_9cb6d0f650c0row1_col6\" class=\"data row1 col6\" >0.4219</td>\n",
       "            </tr>\n",
       "            <tr>\n",
       "                        <th id=\"T_925cc4e2_0fb6_11eb_9719_9cb6d0f650c0level0_row2\" class=\"row_heading level0 row2\" >2</th>\n",
       "                        <td id=\"T_925cc4e2_0fb6_11eb_9719_9cb6d0f650c0row2_col0\" class=\"data row2 col0\" >0.9013</td>\n",
       "                        <td id=\"T_925cc4e2_0fb6_11eb_9719_9cb6d0f650c0row2_col1\" class=\"data row2 col1\" >0.7724</td>\n",
       "                        <td id=\"T_925cc4e2_0fb6_11eb_9719_9cb6d0f650c0row2_col2\" class=\"data row2 col2\" >0.2423</td>\n",
       "                        <td id=\"T_925cc4e2_0fb6_11eb_9719_9cb6d0f650c0row2_col3\" class=\"data row2 col3\" >0.8431</td>\n",
       "                        <td id=\"T_925cc4e2_0fb6_11eb_9719_9cb6d0f650c0row2_col4\" class=\"data row2 col4\" >0.3764</td>\n",
       "                        <td id=\"T_925cc4e2_0fb6_11eb_9719_9cb6d0f650c0row2_col5\" class=\"data row2 col5\" >0.3401</td>\n",
       "                        <td id=\"T_925cc4e2_0fb6_11eb_9719_9cb6d0f650c0row2_col6\" class=\"data row2 col6\" >0.4197</td>\n",
       "            </tr>\n",
       "            <tr>\n",
       "                        <th id=\"T_925cc4e2_0fb6_11eb_9719_9cb6d0f650c0level0_row3\" class=\"row_heading level0 row3\" >3</th>\n",
       "                        <td id=\"T_925cc4e2_0fb6_11eb_9719_9cb6d0f650c0row3_col0\" class=\"data row3 col0\" >0.9020</td>\n",
       "                        <td id=\"T_925cc4e2_0fb6_11eb_9719_9cb6d0f650c0row3_col1\" class=\"data row3 col1\" >0.7542</td>\n",
       "                        <td id=\"T_925cc4e2_0fb6_11eb_9719_9cb6d0f650c0row3_col2\" class=\"data row3 col2\" >0.2538</td>\n",
       "                        <td id=\"T_925cc4e2_0fb6_11eb_9719_9cb6d0f650c0row3_col3\" class=\"data row3 col3\" >0.8343</td>\n",
       "                        <td id=\"T_925cc4e2_0fb6_11eb_9719_9cb6d0f650c0row3_col4\" class=\"data row3 col4\" >0.3892</td>\n",
       "                        <td id=\"T_925cc4e2_0fb6_11eb_9719_9cb6d0f650c0row3_col5\" class=\"data row3 col5\" >0.3520</td>\n",
       "                        <td id=\"T_925cc4e2_0fb6_11eb_9719_9cb6d0f650c0row3_col6\" class=\"data row3 col6\" >0.4270</td>\n",
       "            </tr>\n",
       "            <tr>\n",
       "                        <th id=\"T_925cc4e2_0fb6_11eb_9719_9cb6d0f650c0level0_row4\" class=\"row_heading level0 row4\" >4</th>\n",
       "                        <td id=\"T_925cc4e2_0fb6_11eb_9719_9cb6d0f650c0row4_col0\" class=\"data row4 col0\" >0.8995</td>\n",
       "                        <td id=\"T_925cc4e2_0fb6_11eb_9719_9cb6d0f650c0row4_col1\" class=\"data row4 col1\" >0.7590</td>\n",
       "                        <td id=\"T_925cc4e2_0fb6_11eb_9719_9cb6d0f650c0row4_col2\" class=\"data row4 col2\" >0.2255</td>\n",
       "                        <td id=\"T_925cc4e2_0fb6_11eb_9719_9cb6d0f650c0row4_col3\" class=\"data row4 col3\" >0.8416</td>\n",
       "                        <td id=\"T_925cc4e2_0fb6_11eb_9719_9cb6d0f650c0row4_col4\" class=\"data row4 col4\" >0.3556</td>\n",
       "                        <td id=\"T_925cc4e2_0fb6_11eb_9719_9cb6d0f650c0row4_col5\" class=\"data row4 col5\" >0.3203</td>\n",
       "                        <td id=\"T_925cc4e2_0fb6_11eb_9719_9cb6d0f650c0row4_col6\" class=\"data row4 col6\" >0.4039</td>\n",
       "            </tr>\n",
       "            <tr>\n",
       "                        <th id=\"T_925cc4e2_0fb6_11eb_9719_9cb6d0f650c0level0_row5\" class=\"row_heading level0 row5\" >Mean</th>\n",
       "                        <td id=\"T_925cc4e2_0fb6_11eb_9719_9cb6d0f650c0row5_col0\" class=\"data row5 col0\" >0.9014</td>\n",
       "                        <td id=\"T_925cc4e2_0fb6_11eb_9719_9cb6d0f650c0row5_col1\" class=\"data row5 col1\" >0.7627</td>\n",
       "                        <td id=\"T_925cc4e2_0fb6_11eb_9719_9cb6d0f650c0row5_col2\" class=\"data row5 col2\" >0.2426</td>\n",
       "                        <td id=\"T_925cc4e2_0fb6_11eb_9719_9cb6d0f650c0row5_col3\" class=\"data row5 col3\" >0.8460</td>\n",
       "                        <td id=\"T_925cc4e2_0fb6_11eb_9719_9cb6d0f650c0row5_col4\" class=\"data row5 col4\" >0.3770</td>\n",
       "                        <td id=\"T_925cc4e2_0fb6_11eb_9719_9cb6d0f650c0row5_col5\" class=\"data row5 col5\" >0.3409</td>\n",
       "                        <td id=\"T_925cc4e2_0fb6_11eb_9719_9cb6d0f650c0row5_col6\" class=\"data row5 col6\" >0.4208</td>\n",
       "            </tr>\n",
       "            <tr>\n",
       "                        <th id=\"T_925cc4e2_0fb6_11eb_9719_9cb6d0f650c0level0_row6\" class=\"row_heading level0 row6\" >SD</th>\n",
       "                        <td id=\"T_925cc4e2_0fb6_11eb_9719_9cb6d0f650c0row6_col0\" class=\"data row6 col0\" >0.0011</td>\n",
       "                        <td id=\"T_925cc4e2_0fb6_11eb_9719_9cb6d0f650c0row6_col1\" class=\"data row6 col1\" >0.0093</td>\n",
       "                        <td id=\"T_925cc4e2_0fb6_11eb_9719_9cb6d0f650c0row6_col2\" class=\"data row6 col2\" >0.0102</td>\n",
       "                        <td id=\"T_925cc4e2_0fb6_11eb_9719_9cb6d0f650c0row6_col3\" class=\"data row6 col3\" >0.0084</td>\n",
       "                        <td id=\"T_925cc4e2_0fb6_11eb_9719_9cb6d0f650c0row6_col4\" class=\"data row6 col4\" >0.0123</td>\n",
       "                        <td id=\"T_925cc4e2_0fb6_11eb_9719_9cb6d0f650c0row6_col5\" class=\"data row6 col5\" >0.0118</td>\n",
       "                        <td id=\"T_925cc4e2_0fb6_11eb_9719_9cb6d0f650c0row6_col6\" class=\"data row6 col6\" >0.0094</td>\n",
       "            </tr>\n",
       "    </tbody></table>"
      ],
      "text/plain": [
       "<pandas.io.formats.style.Styler at 0x1cbe143ba08>"
      ]
     },
     "metadata": {},
     "output_type": "display_data"
    }
   ],
   "source": [
    "xgb = create_model('xgboost', fold=5)"
   ]
  },
  {
   "cell_type": "code",
   "execution_count": 35,
   "metadata": {},
   "outputs": [
    {
     "data": {
      "application/vnd.jupyter.widget-view+json": {
       "model_id": "fdc96ddfd53a4f158269c232ed3f0c71",
       "version_major": 2,
       "version_minor": 0
      },
      "text/plain": [
       "IntProgress(value=0, description='Processing: ', max=16)"
      ]
     },
     "metadata": {},
     "output_type": "display_data"
    },
    {
     "data": {
      "text/html": [
       "<div>\n",
       "<style scoped>\n",
       "    .dataframe tbody tr th:only-of-type {\n",
       "        vertical-align: middle;\n",
       "    }\n",
       "\n",
       "    .dataframe tbody tr th {\n",
       "        vertical-align: top;\n",
       "    }\n",
       "\n",
       "    .dataframe thead th {\n",
       "        text-align: right;\n",
       "    }\n",
       "</style>\n",
       "<table border=\"1\" class=\"dataframe\">\n",
       "  <thead>\n",
       "    <tr style=\"text-align: right;\">\n",
       "      <th></th>\n",
       "      <th></th>\n",
       "      <th></th>\n",
       "    </tr>\n",
       "    <tr>\n",
       "      <th></th>\n",
       "      <th></th>\n",
       "      <th></th>\n",
       "    </tr>\n",
       "  </thead>\n",
       "  <tbody>\n",
       "    <tr>\n",
       "      <th>Initiated</th>\n",
       "      <td>. . . . . . . . . . . . . . . . . .</td>\n",
       "      <td>19:21:01</td>\n",
       "    </tr>\n",
       "    <tr>\n",
       "      <th>Status</th>\n",
       "      <td>. . . . . . . . . . . . . . . . . .</td>\n",
       "      <td>Searching Hyperparameters</td>\n",
       "    </tr>\n",
       "    <tr>\n",
       "      <th>ETC</th>\n",
       "      <td>. . . . . . . . . . . . . . . . . .</td>\n",
       "      <td>Calculating ETC</td>\n",
       "    </tr>\n",
       "  </tbody>\n",
       "</table>\n",
       "</div>"
      ],
      "text/plain": [
       "                                                                         \n",
       "                                                                         \n",
       "Initiated  . . . . . . . . . . . . . . . . . .                   19:21:01\n",
       "Status     . . . . . . . . . . . . . . . . . .  Searching Hyperparameters\n",
       "ETC        . . . . . . . . . . . . . . . . . .            Calculating ETC"
      ]
     },
     "metadata": {},
     "output_type": "display_data"
    },
    {
     "data": {
      "text/html": [
       "<div>\n",
       "<style scoped>\n",
       "    .dataframe tbody tr th:only-of-type {\n",
       "        vertical-align: middle;\n",
       "    }\n",
       "\n",
       "    .dataframe tbody tr th {\n",
       "        vertical-align: top;\n",
       "    }\n",
       "\n",
       "    .dataframe thead th {\n",
       "        text-align: right;\n",
       "    }\n",
       "</style>\n",
       "<table border=\"1\" class=\"dataframe\">\n",
       "  <thead>\n",
       "    <tr style=\"text-align: right;\">\n",
       "      <th></th>\n",
       "      <th>Accuracy</th>\n",
       "      <th>AUC</th>\n",
       "      <th>Recall</th>\n",
       "      <th>Prec.</th>\n",
       "      <th>F1</th>\n",
       "      <th>Kappa</th>\n",
       "      <th>MCC</th>\n",
       "    </tr>\n",
       "  </thead>\n",
       "  <tbody>\n",
       "  </tbody>\n",
       "</table>\n",
       "</div>"
      ],
      "text/plain": [
       "Empty DataFrame\n",
       "Columns: [Accuracy, AUC, Recall, Prec., F1, Kappa, MCC]\n",
       "Index: []"
      ]
     },
     "metadata": {},
     "output_type": "display_data"
    },
    {
     "ename": "MemoryError",
     "evalue": "Unable to allocate 264. MiB for an array with shape (2260, 15326) and data type float64",
     "output_type": "error",
     "traceback": [
      "\u001b[1;31m---------------------------------------------------------------------------\u001b[0m",
      "\u001b[1;31m_RemoteTraceback\u001b[0m                          Traceback (most recent call last)",
      "\u001b[1;31m_RemoteTraceback\u001b[0m: \n\"\"\"\nTraceback (most recent call last):\n  File \"C:\\Users\\DELL\\Anaconda3\\lib\\site-packages\\joblib\\externals\\loky\\process_executor.py\", line 418, in _process_worker\n    r = call_item()\n  File \"C:\\Users\\DELL\\Anaconda3\\lib\\site-packages\\joblib\\externals\\loky\\process_executor.py\", line 272, in __call__\n    return self.fn(*self.args, **self.kwargs)\n  File \"C:\\Users\\DELL\\Anaconda3\\lib\\site-packages\\joblib\\_parallel_backends.py\", line 608, in __call__\n    return self.func(*args, **kwargs)\n  File \"C:\\Users\\DELL\\Anaconda3\\lib\\site-packages\\joblib\\parallel.py\", line 256, in __call__\n    for func, args, kwargs in self.items]\n  File \"C:\\Users\\DELL\\Anaconda3\\lib\\site-packages\\joblib\\parallel.py\", line 256, in <listcomp>\n    for func, args, kwargs in self.items]\n  File \"C:\\Users\\DELL\\Anaconda3\\lib\\site-packages\\sklearn\\model_selection\\_validation.py\", line 525, in _fit_and_score\n    X_test, y_test = _safe_split(estimator, X, y, test, train)\n  File \"C:\\Users\\DELL\\Anaconda3\\lib\\site-packages\\sklearn\\utils\\metaestimators.py\", line 204, in _safe_split\n    X_subset = _safe_indexing(X, indices)\n  File \"C:\\Users\\DELL\\Anaconda3\\lib\\site-packages\\sklearn\\utils\\__init__.py\", line 393, in _safe_indexing\n    return _pandas_indexing(X, indices, indices_dtype, axis=axis)\n  File \"C:\\Users\\DELL\\Anaconda3\\lib\\site-packages\\sklearn\\utils\\__init__.py\", line 195, in _pandas_indexing\n    return indexer[:, key] if axis else indexer[key]\n  File \"C:\\Users\\DELL\\Anaconda3\\lib\\site-packages\\pandas\\core\\indexing.py\", line 1768, in __getitem__\n    return self._getitem_axis(maybe_callable, axis=axis)\n  File \"C:\\Users\\DELL\\Anaconda3\\lib\\site-packages\\pandas\\core\\indexing.py\", line 2129, in _getitem_axis\n    return self._get_list_axis(key, axis=axis)\n  File \"C:\\Users\\DELL\\Anaconda3\\lib\\site-packages\\pandas\\core\\indexing.py\", line 2111, in _get_list_axis\n    return self.obj._take_with_is_copy(key, axis=axis)\n  File \"C:\\Users\\DELL\\Anaconda3\\lib\\site-packages\\pandas\\core\\generic.py\", line 3409, in _take_with_is_copy\n    result = self.take(indices=indices, axis=axis, **kwargs)\n  File \"C:\\Users\\DELL\\Anaconda3\\lib\\site-packages\\pandas\\core\\generic.py\", line 3395, in take\n    indices, axis=self._get_block_manager_axis(axis), verify=True\n  File \"C:\\Users\\DELL\\Anaconda3\\lib\\site-packages\\pandas\\core\\internals\\managers.py\", line 1394, in take\n    new_axis=new_labels, indexer=indexer, axis=axis, allow_dups=True\n  File \"C:\\Users\\DELL\\Anaconda3\\lib\\site-packages\\pandas\\core\\internals\\managers.py\", line 1267, in reindex_indexer\n    for blk in self.blocks\n  File \"C:\\Users\\DELL\\Anaconda3\\lib\\site-packages\\pandas\\core\\internals\\managers.py\", line 1267, in <listcomp>\n    for blk in self.blocks\n  File \"C:\\Users\\DELL\\Anaconda3\\lib\\site-packages\\pandas\\core\\internals\\blocks.py\", line 1291, in take_nd\n    values, indexer, axis=axis, allow_fill=allow_fill, fill_value=fill_value\n  File \"C:\\Users\\DELL\\Anaconda3\\lib\\site-packages\\pandas\\core\\algorithms.py\", line 1657, in take_nd\n    out = np.empty(out_shape, dtype=dtype)\nMemoryError: Unable to allocate 264. MiB for an array with shape (2260, 15326) and data type float64\n\"\"\"",
      "\nThe above exception was the direct cause of the following exception:\n",
      "\u001b[1;31mMemoryError\u001b[0m                               Traceback (most recent call last)",
      "\u001b[1;32m<ipython-input-35-60918d43bd95>\u001b[0m in \u001b[0;36m<module>\u001b[1;34m\u001b[0m\n\u001b[1;32m----> 1\u001b[1;33m \u001b[0mtuned_xgb\u001b[0m \u001b[1;33m=\u001b[0m \u001b[0mtune_model\u001b[0m\u001b[1;33m(\u001b[0m\u001b[0mxgb\u001b[0m\u001b[1;33m)\u001b[0m\u001b[1;33m\u001b[0m\u001b[1;33m\u001b[0m\u001b[0m\n\u001b[0m",
      "\u001b[1;32m~\\Anaconda3\\lib\\site-packages\\pycaret\\classification.py\u001b[0m in \u001b[0;36mtune_model\u001b[1;34m(estimator, fold, round, n_iter, custom_grid, optimize, choose_better, verbose)\u001b[0m\n\u001b[0;32m   5948\u001b[0m                                         cv=cv, random_state=seed, n_jobs=n_jobs_param)\n\u001b[0;32m   5949\u001b[0m \u001b[1;33m\u001b[0m\u001b[0m\n\u001b[1;32m-> 5950\u001b[1;33m         \u001b[0mmodel_grid\u001b[0m\u001b[1;33m.\u001b[0m\u001b[0mfit\u001b[0m\u001b[1;33m(\u001b[0m\u001b[0mX_train\u001b[0m\u001b[1;33m,\u001b[0m\u001b[0my_train\u001b[0m\u001b[1;33m)\u001b[0m\u001b[1;33m\u001b[0m\u001b[1;33m\u001b[0m\u001b[0m\n\u001b[0m\u001b[0;32m   5951\u001b[0m         \u001b[0mmodel\u001b[0m \u001b[1;33m=\u001b[0m \u001b[0mmodel_grid\u001b[0m\u001b[1;33m.\u001b[0m\u001b[0mbest_estimator_\u001b[0m\u001b[1;33m\u001b[0m\u001b[1;33m\u001b[0m\u001b[0m\n\u001b[0;32m   5952\u001b[0m         \u001b[0mbest_model\u001b[0m \u001b[1;33m=\u001b[0m \u001b[0mmodel_grid\u001b[0m\u001b[1;33m.\u001b[0m\u001b[0mbest_estimator_\u001b[0m\u001b[1;33m\u001b[0m\u001b[1;33m\u001b[0m\u001b[0m\n",
      "\u001b[1;32m~\\Anaconda3\\lib\\site-packages\\sklearn\\utils\\validation.py\u001b[0m in \u001b[0;36minner_f\u001b[1;34m(*args, **kwargs)\u001b[0m\n\u001b[0;32m     71\u001b[0m                           FutureWarning)\n\u001b[0;32m     72\u001b[0m         \u001b[0mkwargs\u001b[0m\u001b[1;33m.\u001b[0m\u001b[0mupdate\u001b[0m\u001b[1;33m(\u001b[0m\u001b[1;33m{\u001b[0m\u001b[0mk\u001b[0m\u001b[1;33m:\u001b[0m \u001b[0marg\u001b[0m \u001b[1;32mfor\u001b[0m \u001b[0mk\u001b[0m\u001b[1;33m,\u001b[0m \u001b[0marg\u001b[0m \u001b[1;32min\u001b[0m \u001b[0mzip\u001b[0m\u001b[1;33m(\u001b[0m\u001b[0msig\u001b[0m\u001b[1;33m.\u001b[0m\u001b[0mparameters\u001b[0m\u001b[1;33m,\u001b[0m \u001b[0margs\u001b[0m\u001b[1;33m)\u001b[0m\u001b[1;33m}\u001b[0m\u001b[1;33m)\u001b[0m\u001b[1;33m\u001b[0m\u001b[1;33m\u001b[0m\u001b[0m\n\u001b[1;32m---> 73\u001b[1;33m         \u001b[1;32mreturn\u001b[0m \u001b[0mf\u001b[0m\u001b[1;33m(\u001b[0m\u001b[1;33m**\u001b[0m\u001b[0mkwargs\u001b[0m\u001b[1;33m)\u001b[0m\u001b[1;33m\u001b[0m\u001b[1;33m\u001b[0m\u001b[0m\n\u001b[0m\u001b[0;32m     74\u001b[0m     \u001b[1;32mreturn\u001b[0m \u001b[0minner_f\u001b[0m\u001b[1;33m\u001b[0m\u001b[1;33m\u001b[0m\u001b[0m\n\u001b[0;32m     75\u001b[0m \u001b[1;33m\u001b[0m\u001b[0m\n",
      "\u001b[1;32m~\\Anaconda3\\lib\\site-packages\\sklearn\\model_selection\\_search.py\u001b[0m in \u001b[0;36mfit\u001b[1;34m(self, X, y, groups, **fit_params)\u001b[0m\n\u001b[0;32m    734\u001b[0m                 \u001b[1;32mreturn\u001b[0m \u001b[0mresults\u001b[0m\u001b[1;33m\u001b[0m\u001b[1;33m\u001b[0m\u001b[0m\n\u001b[0;32m    735\u001b[0m \u001b[1;33m\u001b[0m\u001b[0m\n\u001b[1;32m--> 736\u001b[1;33m             \u001b[0mself\u001b[0m\u001b[1;33m.\u001b[0m\u001b[0m_run_search\u001b[0m\u001b[1;33m(\u001b[0m\u001b[0mevaluate_candidates\u001b[0m\u001b[1;33m)\u001b[0m\u001b[1;33m\u001b[0m\u001b[1;33m\u001b[0m\u001b[0m\n\u001b[0m\u001b[0;32m    737\u001b[0m \u001b[1;33m\u001b[0m\u001b[0m\n\u001b[0;32m    738\u001b[0m         \u001b[1;31m# For multi-metric evaluation, store the best_index_, best_params_ and\u001b[0m\u001b[1;33m\u001b[0m\u001b[1;33m\u001b[0m\u001b[1;33m\u001b[0m\u001b[0m\n",
      "\u001b[1;32m~\\Anaconda3\\lib\\site-packages\\sklearn\\model_selection\\_search.py\u001b[0m in \u001b[0;36m_run_search\u001b[1;34m(self, evaluate_candidates)\u001b[0m\n\u001b[0;32m   1529\u001b[0m         evaluate_candidates(ParameterSampler(\n\u001b[0;32m   1530\u001b[0m             \u001b[0mself\u001b[0m\u001b[1;33m.\u001b[0m\u001b[0mparam_distributions\u001b[0m\u001b[1;33m,\u001b[0m \u001b[0mself\u001b[0m\u001b[1;33m.\u001b[0m\u001b[0mn_iter\u001b[0m\u001b[1;33m,\u001b[0m\u001b[1;33m\u001b[0m\u001b[1;33m\u001b[0m\u001b[0m\n\u001b[1;32m-> 1531\u001b[1;33m             random_state=self.random_state))\n\u001b[0m",
      "\u001b[1;32m~\\Anaconda3\\lib\\site-packages\\sklearn\\model_selection\\_search.py\u001b[0m in \u001b[0;36mevaluate_candidates\u001b[1;34m(candidate_params)\u001b[0m\n\u001b[0;32m    713\u001b[0m                                \u001b[1;32mfor\u001b[0m \u001b[0mparameters\u001b[0m\u001b[1;33m,\u001b[0m \u001b[1;33m(\u001b[0m\u001b[0mtrain\u001b[0m\u001b[1;33m,\u001b[0m \u001b[0mtest\u001b[0m\u001b[1;33m)\u001b[0m\u001b[1;33m\u001b[0m\u001b[1;33m\u001b[0m\u001b[0m\n\u001b[0;32m    714\u001b[0m                                in product(candidate_params,\n\u001b[1;32m--> 715\u001b[1;33m                                           cv.split(X, y, groups)))\n\u001b[0m\u001b[0;32m    716\u001b[0m \u001b[1;33m\u001b[0m\u001b[0m\n\u001b[0;32m    717\u001b[0m                 \u001b[1;32mif\u001b[0m \u001b[0mlen\u001b[0m\u001b[1;33m(\u001b[0m\u001b[0mout\u001b[0m\u001b[1;33m)\u001b[0m \u001b[1;33m<\u001b[0m \u001b[1;36m1\u001b[0m\u001b[1;33m:\u001b[0m\u001b[1;33m\u001b[0m\u001b[1;33m\u001b[0m\u001b[0m\n",
      "\u001b[1;32m~\\Anaconda3\\lib\\site-packages\\joblib\\parallel.py\u001b[0m in \u001b[0;36m__call__\u001b[1;34m(self, iterable)\u001b[0m\n\u001b[0;32m   1015\u001b[0m \u001b[1;33m\u001b[0m\u001b[0m\n\u001b[0;32m   1016\u001b[0m             \u001b[1;32mwith\u001b[0m \u001b[0mself\u001b[0m\u001b[1;33m.\u001b[0m\u001b[0m_backend\u001b[0m\u001b[1;33m.\u001b[0m\u001b[0mretrieval_context\u001b[0m\u001b[1;33m(\u001b[0m\u001b[1;33m)\u001b[0m\u001b[1;33m:\u001b[0m\u001b[1;33m\u001b[0m\u001b[1;33m\u001b[0m\u001b[0m\n\u001b[1;32m-> 1017\u001b[1;33m                 \u001b[0mself\u001b[0m\u001b[1;33m.\u001b[0m\u001b[0mretrieve\u001b[0m\u001b[1;33m(\u001b[0m\u001b[1;33m)\u001b[0m\u001b[1;33m\u001b[0m\u001b[1;33m\u001b[0m\u001b[0m\n\u001b[0m\u001b[0;32m   1018\u001b[0m             \u001b[1;31m# Make sure that we get a last message telling us we are done\u001b[0m\u001b[1;33m\u001b[0m\u001b[1;33m\u001b[0m\u001b[1;33m\u001b[0m\u001b[0m\n\u001b[0;32m   1019\u001b[0m             \u001b[0melapsed_time\u001b[0m \u001b[1;33m=\u001b[0m \u001b[0mtime\u001b[0m\u001b[1;33m.\u001b[0m\u001b[0mtime\u001b[0m\u001b[1;33m(\u001b[0m\u001b[1;33m)\u001b[0m \u001b[1;33m-\u001b[0m \u001b[0mself\u001b[0m\u001b[1;33m.\u001b[0m\u001b[0m_start_time\u001b[0m\u001b[1;33m\u001b[0m\u001b[1;33m\u001b[0m\u001b[0m\n",
      "\u001b[1;32m~\\Anaconda3\\lib\\site-packages\\joblib\\parallel.py\u001b[0m in \u001b[0;36mretrieve\u001b[1;34m(self)\u001b[0m\n\u001b[0;32m    907\u001b[0m             \u001b[1;32mtry\u001b[0m\u001b[1;33m:\u001b[0m\u001b[1;33m\u001b[0m\u001b[1;33m\u001b[0m\u001b[0m\n\u001b[0;32m    908\u001b[0m                 \u001b[1;32mif\u001b[0m \u001b[0mgetattr\u001b[0m\u001b[1;33m(\u001b[0m\u001b[0mself\u001b[0m\u001b[1;33m.\u001b[0m\u001b[0m_backend\u001b[0m\u001b[1;33m,\u001b[0m \u001b[1;34m'supports_timeout'\u001b[0m\u001b[1;33m,\u001b[0m \u001b[1;32mFalse\u001b[0m\u001b[1;33m)\u001b[0m\u001b[1;33m:\u001b[0m\u001b[1;33m\u001b[0m\u001b[1;33m\u001b[0m\u001b[0m\n\u001b[1;32m--> 909\u001b[1;33m                     \u001b[0mself\u001b[0m\u001b[1;33m.\u001b[0m\u001b[0m_output\u001b[0m\u001b[1;33m.\u001b[0m\u001b[0mextend\u001b[0m\u001b[1;33m(\u001b[0m\u001b[0mjob\u001b[0m\u001b[1;33m.\u001b[0m\u001b[0mget\u001b[0m\u001b[1;33m(\u001b[0m\u001b[0mtimeout\u001b[0m\u001b[1;33m=\u001b[0m\u001b[0mself\u001b[0m\u001b[1;33m.\u001b[0m\u001b[0mtimeout\u001b[0m\u001b[1;33m)\u001b[0m\u001b[1;33m)\u001b[0m\u001b[1;33m\u001b[0m\u001b[1;33m\u001b[0m\u001b[0m\n\u001b[0m\u001b[0;32m    910\u001b[0m                 \u001b[1;32melse\u001b[0m\u001b[1;33m:\u001b[0m\u001b[1;33m\u001b[0m\u001b[1;33m\u001b[0m\u001b[0m\n\u001b[0;32m    911\u001b[0m                     \u001b[0mself\u001b[0m\u001b[1;33m.\u001b[0m\u001b[0m_output\u001b[0m\u001b[1;33m.\u001b[0m\u001b[0mextend\u001b[0m\u001b[1;33m(\u001b[0m\u001b[0mjob\u001b[0m\u001b[1;33m.\u001b[0m\u001b[0mget\u001b[0m\u001b[1;33m(\u001b[0m\u001b[1;33m)\u001b[0m\u001b[1;33m)\u001b[0m\u001b[1;33m\u001b[0m\u001b[1;33m\u001b[0m\u001b[0m\n",
      "\u001b[1;32m~\\Anaconda3\\lib\\site-packages\\joblib\\_parallel_backends.py\u001b[0m in \u001b[0;36mwrap_future_result\u001b[1;34m(future, timeout)\u001b[0m\n\u001b[0;32m    560\u001b[0m         AsyncResults.get from multiprocessing.\"\"\"\n\u001b[0;32m    561\u001b[0m         \u001b[1;32mtry\u001b[0m\u001b[1;33m:\u001b[0m\u001b[1;33m\u001b[0m\u001b[1;33m\u001b[0m\u001b[0m\n\u001b[1;32m--> 562\u001b[1;33m             \u001b[1;32mreturn\u001b[0m \u001b[0mfuture\u001b[0m\u001b[1;33m.\u001b[0m\u001b[0mresult\u001b[0m\u001b[1;33m(\u001b[0m\u001b[0mtimeout\u001b[0m\u001b[1;33m=\u001b[0m\u001b[0mtimeout\u001b[0m\u001b[1;33m)\u001b[0m\u001b[1;33m\u001b[0m\u001b[1;33m\u001b[0m\u001b[0m\n\u001b[0m\u001b[0;32m    563\u001b[0m         \u001b[1;32mexcept\u001b[0m \u001b[0mLokyTimeoutError\u001b[0m\u001b[1;33m:\u001b[0m\u001b[1;33m\u001b[0m\u001b[1;33m\u001b[0m\u001b[0m\n\u001b[0;32m    564\u001b[0m             \u001b[1;32mraise\u001b[0m \u001b[0mTimeoutError\u001b[0m\u001b[1;33m(\u001b[0m\u001b[1;33m)\u001b[0m\u001b[1;33m\u001b[0m\u001b[1;33m\u001b[0m\u001b[0m\n",
      "\u001b[1;32m~\\Anaconda3\\lib\\concurrent\\futures\\_base.py\u001b[0m in \u001b[0;36mresult\u001b[1;34m(self, timeout)\u001b[0m\n\u001b[0;32m    426\u001b[0m                 \u001b[1;32mraise\u001b[0m \u001b[0mCancelledError\u001b[0m\u001b[1;33m(\u001b[0m\u001b[1;33m)\u001b[0m\u001b[1;33m\u001b[0m\u001b[1;33m\u001b[0m\u001b[0m\n\u001b[0;32m    427\u001b[0m             \u001b[1;32melif\u001b[0m \u001b[0mself\u001b[0m\u001b[1;33m.\u001b[0m\u001b[0m_state\u001b[0m \u001b[1;33m==\u001b[0m \u001b[0mFINISHED\u001b[0m\u001b[1;33m:\u001b[0m\u001b[1;33m\u001b[0m\u001b[1;33m\u001b[0m\u001b[0m\n\u001b[1;32m--> 428\u001b[1;33m                 \u001b[1;32mreturn\u001b[0m \u001b[0mself\u001b[0m\u001b[1;33m.\u001b[0m\u001b[0m__get_result\u001b[0m\u001b[1;33m(\u001b[0m\u001b[1;33m)\u001b[0m\u001b[1;33m\u001b[0m\u001b[1;33m\u001b[0m\u001b[0m\n\u001b[0m\u001b[0;32m    429\u001b[0m \u001b[1;33m\u001b[0m\u001b[0m\n\u001b[0;32m    430\u001b[0m             \u001b[0mself\u001b[0m\u001b[1;33m.\u001b[0m\u001b[0m_condition\u001b[0m\u001b[1;33m.\u001b[0m\u001b[0mwait\u001b[0m\u001b[1;33m(\u001b[0m\u001b[0mtimeout\u001b[0m\u001b[1;33m)\u001b[0m\u001b[1;33m\u001b[0m\u001b[1;33m\u001b[0m\u001b[0m\n",
      "\u001b[1;32m~\\Anaconda3\\lib\\concurrent\\futures\\_base.py\u001b[0m in \u001b[0;36m__get_result\u001b[1;34m(self)\u001b[0m\n\u001b[0;32m    382\u001b[0m     \u001b[1;32mdef\u001b[0m \u001b[0m__get_result\u001b[0m\u001b[1;33m(\u001b[0m\u001b[0mself\u001b[0m\u001b[1;33m)\u001b[0m\u001b[1;33m:\u001b[0m\u001b[1;33m\u001b[0m\u001b[1;33m\u001b[0m\u001b[0m\n\u001b[0;32m    383\u001b[0m         \u001b[1;32mif\u001b[0m \u001b[0mself\u001b[0m\u001b[1;33m.\u001b[0m\u001b[0m_exception\u001b[0m\u001b[1;33m:\u001b[0m\u001b[1;33m\u001b[0m\u001b[1;33m\u001b[0m\u001b[0m\n\u001b[1;32m--> 384\u001b[1;33m             \u001b[1;32mraise\u001b[0m \u001b[0mself\u001b[0m\u001b[1;33m.\u001b[0m\u001b[0m_exception\u001b[0m\u001b[1;33m\u001b[0m\u001b[1;33m\u001b[0m\u001b[0m\n\u001b[0m\u001b[0;32m    385\u001b[0m         \u001b[1;32melse\u001b[0m\u001b[1;33m:\u001b[0m\u001b[1;33m\u001b[0m\u001b[1;33m\u001b[0m\u001b[0m\n\u001b[0;32m    386\u001b[0m             \u001b[1;32mreturn\u001b[0m \u001b[0mself\u001b[0m\u001b[1;33m.\u001b[0m\u001b[0m_result\u001b[0m\u001b[1;33m\u001b[0m\u001b[1;33m\u001b[0m\u001b[0m\n",
      "\u001b[1;31mMemoryError\u001b[0m: Unable to allocate 264. MiB for an array with shape (2260, 15326) and data type float64"
     ]
    }
   ],
   "source": [
    "tuned_xgb = tune_model(xgb)"
   ]
  },
  {
   "cell_type": "code",
   "execution_count": 21,
   "metadata": {},
   "outputs": [
    {
     "data": {
      "image/png": "[encoded data removed]",
      "text/plain": [
       "<Figure size 576x396 with 1 Axes>"
      ]
     },
     "metadata": {},
     "output_type": "display_data"
    }
   ],
   "source": [
    "# AUC plot\n",
    "plot_model(xgb, plot = 'auc')"
   ]
  },
  {
   "cell_type": "code",
   "execution_count": null,
   "metadata": {},
   "outputs": [],
   "source": [
    "# confusion_matrix\n",
    "plot_model(xgb, plot = 'confusion_matrix')"
   ]
  },
  {
   "cell_type": "code",
   "execution_count": 22,
   "metadata": {},
   "outputs": [
    {
     "data": {
      "text/html": [
       "        <script type=\"text/javascript\">\n",
       "        window.PlotlyConfig = {MathJaxConfig: 'local'};\n",
       "        if (window.MathJax) {MathJax.Hub.Config({SVG: {font: \"STIX-Web\"}});}\n",
       "        if (typeof require !== 'undefined') {\n",
       "        require.undef(\"plotly\");\n",
       "        requirejs.config({\n",
       "            paths: {\n",
       "                'plotly': ['https://cdn.plot.ly/plotly-latest.min']\n",
       "            }\n",
       "        });\n",
       "        require(['plotly'], function(Plotly) {\n",
       "            window._Plotly = Plotly;\n",
       "        });\n",
       "        }\n",
       "        </script>\n",
       "        "
      ]
     },
     "metadata": {},
     "output_type": "display_data"
    },
    {
     "data": {
      "application/vnd.plotly.v1+json": {
       "config": {
        "plotlyServerURL": "https://plot.ly"
       },
       "data": [
        {
         "hovertemplate": "Probability Threshold=%{x}<br>Cost Function=%{y}<extra></extra>",
         "legendgroup": "",
         "line": {
          "color": "#636efa",
          "dash": "solid",
          "shape": "linear"
         },
         "mode": "lines",
         "name": "",
         "orientation": "v",
         "showlegend": false,
         "type": "scatter",
         "x": [
          0,
          0.01,
          0.02,
          0.03,
          0.04,
          0.05,
          0.06,
          0.07,
          0.08,
          0.09,
          0.1,
          0.11,
          0.12,
          0.13,
          0.14,
          0.15,
          0.16,
          0.17,
          0.18,
          0.19,
          0.2,
          0.21,
          0.22,
          0.23,
          0.24,
          0.25,
          0.26,
          0.27,
          0.28,
          0.29,
          0.3,
          0.31,
          0.32,
          0.33,
          0.34,
          0.35000000000000003,
          0.36,
          0.37,
          0.38,
          0.39,
          0.4,
          0.41000000000000003,
          0.42,
          0.43,
          0.44,
          0.45,
          0.46,
          0.47000000000000003,
          0.48,
          0.49,
          0.5,
          0.51,
          0.52,
          0.53,
          0.54,
          0.55,
          0.56,
          0.5700000000000001,
          0.58,
          0.59,
          0.6,
          0.61,
          0.62,
          0.63,
          0.64,
          0.65,
          0.66,
          0.67,
          0.68,
          0.6900000000000001,
          0.7000000000000001,
          0.71,
          0.72,
          0.73,
          0.74,
          0.75,
          0.76,
          0.77,
          0.78,
          0.79,
          0.8,
          0.81,
          0.8200000000000001,
          0.8300000000000001,
          0.84,
          0.85,
          0.86,
          0.87,
          0.88,
          0.89,
          0.9,
          0.91,
          0.92,
          0.93,
          0.9400000000000001,
          0.9500000000000001,
          0.96,
          0.97,
          0.98,
          0.99
         ],
         "xaxis": "x",
         "y": [
          0,
          30,
          840,
          6730,
          12310,
          19980,
          29220,
          34870,
          36880,
          38810,
          37930,
          35040,
          31480,
          27480,
          24470,
          20980,
          17430,
          14920,
          11440,
          8910,
          5550,
          3660,
          1610,
          200,
          -1870,
          -3360,
          -4270,
          -5380,
          -7020,
          -7560,
          -8140,
          -8920,
          -9450,
          -10220,
          -10780,
          -10920,
          -10940,
          -11190,
          -11220,
          -11590,
          -12160,
          -12400,
          -12690,
          -12950,
          -13010,
          -13290,
          -13490,
          -13680,
          -13670,
          -13950,
          -14220,
          -14310,
          -14560,
          -14650,
          -14940,
          -15000,
          -15380,
          -15770,
          -15860,
          -16140,
          -16290,
          -16560,
          -16830,
          -17510,
          -17880,
          -18450,
          -18830,
          -19390,
          -19850,
          -20520,
          -21600,
          -22380,
          -23850,
          -24520,
          -25480,
          -27070,
          -28360,
          -29530,
          -30930,
          -33020,
          -35210,
          -37390,
          -39090,
          -40980,
          -43680,
          -46270,
          -48540,
          -50900,
          -53500,
          -56200,
          -57300,
          -58790,
          -59380,
          -60080,
          -60380,
          -61080,
          -61580,
          -61780,
          -61780,
          -61780
         ],
         "yaxis": "y"
        }
       ],
       "layout": {
        "legend": {
         "tracegroupgap": 0
        },
        "margin": {
         "t": 60
        },
        "plot_bgcolor": "rgb(245,245,245)",
        "shapes": [
         {
          "line": {
           "color": "red",
           "width": 2
          },
          "type": "line",
          "x0": 0.09,
          "x1": 0.09,
          "y0": -61780,
          "y1": 38810
         }
        ],
        "template": {
         "data": {
          "bar": [
           {
            "error_x": {
             "color": "#2a3f5f"
            },
            "error_y": {
             "color": "#2a3f5f"
            },
            "marker": {
             "line": {
              "color": "#E5ECF6",
              "width": 0.5
             }
            },
            "type": "bar"
           }
          ],
          "barpolar": [
           {
            "marker": {
             "line": {
              "color": "#E5ECF6",
              "width": 0.5
             }
            },
            "type": "barpolar"
           }
          ],
          "carpet": [
           {
            "aaxis": {
             "endlinecolor": "#2a3f5f",
             "gridcolor": "white",
             "linecolor": "white",
             "minorgridcolor": "white",
             "startlinecolor": "#2a3f5f"
            },
            "baxis": {
             "endlinecolor": "#2a3f5f",
             "gridcolor": "white",
             "linecolor": "white",
             "minorgridcolor": "white",
             "startlinecolor": "#2a3f5f"
            },
            "type": "carpet"
           }
          ],
          "choropleth": [
           {
            "colorbar": {
             "outlinewidth": 0,
             "ticks": ""
            },
            "type": "choropleth"
           }
          ],
          "contour": [
           {
            "colorbar": {
             "outlinewidth": 0,
             "ticks": ""
            },
            "colorscale": [
             [
              0,
              "#0d0887"
             ],
             [
              0.1111111111111111,
              "#46039f"
             ],
             [
              0.2222222222222222,
              "#7201a8"
             ],
             [
              0.3333333333333333,
              "#9c179e"
             ],
             [
              0.4444444444444444,
              "#bd3786"
             ],
             [
              0.5555555555555556,
              "#d8576b"
             ],
             [
              0.6666666666666666,
              "#ed7953"
             ],
             [
              0.7777777777777778,
              "#fb9f3a"
             ],
             [
              0.8888888888888888,
              "#fdca26"
             ],
             [
              1,
              "#f0f921"
             ]
            ],
            "type": "contour"
           }
          ],
          "contourcarpet": [
           {
            "colorbar": {
             "outlinewidth": 0,
             "ticks": ""
            },
            "type": "contourcarpet"
           }
          ],
          "heatmap": [
           {
            "colorbar": {
             "outlinewidth": 0,
             "ticks": ""
            },
            "colorscale": [
             [
              0,
              "#0d0887"
             ],
             [
              0.1111111111111111,
              "#46039f"
             ],
             [
              0.2222222222222222,
              "#7201a8"
             ],
             [
              0.3333333333333333,
              "#9c179e"
             ],
             [
              0.4444444444444444,
              "#bd3786"
             ],
             [
              0.5555555555555556,
              "#d8576b"
             ],
             [
              0.6666666666666666,
              "#ed7953"
             ],
             [
              0.7777777777777778,
              "#fb9f3a"
             ],
             [
              0.8888888888888888,
              "#fdca26"
             ],
             [
              1,
              "#f0f921"
             ]
            ],
            "type": "heatmap"
           }
          ],
          "heatmapgl": [
           {
            "colorbar": {
             "outlinewidth": 0,
             "ticks": ""
            },
            "colorscale": [
             [
              0,
              "#0d0887"
             ],
             [
              0.1111111111111111,
              "#46039f"
             ],
             [
              0.2222222222222222,
              "#7201a8"
             ],
             [
              0.3333333333333333,
              "#9c179e"
             ],
             [
              0.4444444444444444,
              "#bd3786"
             ],
             [
              0.5555555555555556,
              "#d8576b"
             ],
             [
              0.6666666666666666,
              "#ed7953"
             ],
             [
              0.7777777777777778,
              "#fb9f3a"
             ],
             [
              0.8888888888888888,
              "#fdca26"
             ],
             [
              1,
              "#f0f921"
             ]
            ],
            "type": "heatmapgl"
           }
          ],
          "histogram": [
           {
            "marker": {
             "colorbar": {
              "outlinewidth": 0,
              "ticks": ""
             }
            },
            "type": "histogram"
           }
          ],
          "histogram2d": [
           {
            "colorbar": {
             "outlinewidth": 0,
             "ticks": ""
            },
            "colorscale": [
             [
              0,
              "#0d0887"
             ],
             [
              0.1111111111111111,
              "#46039f"
             ],
             [
              0.2222222222222222,
              "#7201a8"
             ],
             [
              0.3333333333333333,
              "#9c179e"
             ],
             [
              0.4444444444444444,
              "#bd3786"
             ],
             [
              0.5555555555555556,
              "#d8576b"
             ],
             [
              0.6666666666666666,
              "#ed7953"
             ],
             [
              0.7777777777777778,
              "#fb9f3a"
             ],
             [
              0.8888888888888888,
              "#fdca26"
             ],
             [
              1,
              "#f0f921"
             ]
            ],
            "type": "histogram2d"
           }
          ],
          "histogram2dcontour": [
           {
            "colorbar": {
             "outlinewidth": 0,
             "ticks": ""
            },
            "colorscale": [
             [
              0,
              "#0d0887"
             ],
             [
              0.1111111111111111,
              "#46039f"
             ],
             [
              0.2222222222222222,
              "#7201a8"
             ],
             [
              0.3333333333333333,
              "#9c179e"
             ],
             [
              0.4444444444444444,
              "#bd3786"
             ],
             [
              0.5555555555555556,
              "#d8576b"
             ],
             [
              0.6666666666666666,
              "#ed7953"
             ],
             [
              0.7777777777777778,
              "#fb9f3a"
             ],
             [
              0.8888888888888888,
              "#fdca26"
             ],
             [
              1,
              "#f0f921"
             ]
            ],
            "type": "histogram2dcontour"
           }
          ],
          "mesh3d": [
           {
            "colorbar": {
             "outlinewidth": 0,
             "ticks": ""
            },
            "type": "mesh3d"
           }
          ],
          "parcoords": [
           {
            "line": {
             "colorbar": {
              "outlinewidth": 0,
              "ticks": ""
             }
            },
            "type": "parcoords"
           }
          ],
          "pie": [
           {
            "automargin": true,
            "type": "pie"
           }
          ],
          "scatter": [
           {
            "marker": {
             "colorbar": {
              "outlinewidth": 0,
              "ticks": ""
             }
            },
            "type": "scatter"
           }
          ],
          "scatter3d": [
           {
            "line": {
             "colorbar": {
              "outlinewidth": 0,
              "ticks": ""
             }
            },
            "marker": {
             "colorbar": {
              "outlinewidth": 0,
              "ticks": ""
             }
            },
            "type": "scatter3d"
           }
          ],
          "scattercarpet": [
           {
            "marker": {
             "colorbar": {
              "outlinewidth": 0,
              "ticks": ""
             }
            },
            "type": "scattercarpet"
           }
          ],
          "scattergeo": [
           {
            "marker": {
             "colorbar": {
              "outlinewidth": 0,
              "ticks": ""
             }
            },
            "type": "scattergeo"
           }
          ],
          "scattergl": [
           {
            "marker": {
             "colorbar": {
              "outlinewidth": 0,
              "ticks": ""
             }
            },
            "type": "scattergl"
           }
          ],
          "scattermapbox": [
           {
            "marker": {
             "colorbar": {
              "outlinewidth": 0,
              "ticks": ""
             }
            },
            "type": "scattermapbox"
           }
          ],
          "scatterpolar": [
           {
            "marker": {
             "colorbar": {
              "outlinewidth": 0,
              "ticks": ""
             }
            },
            "type": "scatterpolar"
           }
          ],
          "scatterpolargl": [
           {
            "marker": {
             "colorbar": {
              "outlinewidth": 0,
              "ticks": ""
             }
            },
            "type": "scatterpolargl"
           }
          ],
          "scatterternary": [
           {
            "marker": {
             "colorbar": {
              "outlinewidth": 0,
              "ticks": ""
             }
            },
            "type": "scatterternary"
           }
          ],
          "surface": [
           {
            "colorbar": {
             "outlinewidth": 0,
             "ticks": ""
            },
            "colorscale": [
             [
              0,
              "#0d0887"
             ],
             [
              0.1111111111111111,
              "#46039f"
             ],
             [
              0.2222222222222222,
              "#7201a8"
             ],
             [
              0.3333333333333333,
              "#9c179e"
             ],
             [
              0.4444444444444444,
              "#bd3786"
             ],
             [
              0.5555555555555556,
              "#d8576b"
             ],
             [
              0.6666666666666666,
              "#ed7953"
             ],
             [
              0.7777777777777778,
              "#fb9f3a"
             ],
             [
              0.8888888888888888,
              "#fdca26"
             ],
             [
              1,
              "#f0f921"
             ]
            ],
            "type": "surface"
           }
          ],
          "table": [
           {
            "cells": {
             "fill": {
              "color": "#EBF0F8"
             },
             "line": {
              "color": "white"
             }
            },
            "header": {
             "fill": {
              "color": "#C8D4E3"
             },
             "line": {
              "color": "white"
             }
            },
            "type": "table"
           }
          ]
         },
         "layout": {
          "annotationdefaults": {
           "arrowcolor": "#2a3f5f",
           "arrowhead": 0,
           "arrowwidth": 1
          },
          "coloraxis": {
           "colorbar": {
            "outlinewidth": 0,
            "ticks": ""
           }
          },
          "colorscale": {
           "diverging": [
            [
             0,
             "#8e0152"
            ],
            [
             0.1,
             "#c51b7d"
            ],
            [
             0.2,
             "#de77ae"
            ],
            [
             0.3,
             "#f1b6da"
            ],
            [
             0.4,
             "#fde0ef"
            ],
            [
             0.5,
             "#f7f7f7"
            ],
            [
             0.6,
             "#e6f5d0"
            ],
            [
             0.7,
             "#b8e186"
            ],
            [
             0.8,
             "#7fbc41"
            ],
            [
             0.9,
             "#4d9221"
            ],
            [
             1,
             "#276419"
            ]
           ],
           "sequential": [
            [
             0,
             "#0d0887"
            ],
            [
             0.1111111111111111,
             "#46039f"
            ],
            [
             0.2222222222222222,
             "#7201a8"
            ],
            [
             0.3333333333333333,
             "#9c179e"
            ],
            [
             0.4444444444444444,
             "#bd3786"
            ],
            [
             0.5555555555555556,
             "#d8576b"
            ],
            [
             0.6666666666666666,
             "#ed7953"
            ],
            [
             0.7777777777777778,
             "#fb9f3a"
            ],
            [
             0.8888888888888888,
             "#fdca26"
            ],
            [
             1,
             "#f0f921"
            ]
           ],
           "sequentialminus": [
            [
             0,
             "#0d0887"
            ],
            [
             0.1111111111111111,
             "#46039f"
            ],
            [
             0.2222222222222222,
             "#7201a8"
            ],
            [
             0.3333333333333333,
             "#9c179e"
            ],
            [
             0.4444444444444444,
             "#bd3786"
            ],
            [
             0.5555555555555556,
             "#d8576b"
            ],
            [
             0.6666666666666666,
             "#ed7953"
            ],
            [
             0.7777777777777778,
             "#fb9f3a"
            ],
            [
             0.8888888888888888,
             "#fdca26"
            ],
            [
             1,
             "#f0f921"
            ]
           ]
          },
          "colorway": [
           "#636efa",
           "#EF553B",
           "#00cc96",
           "#ab63fa",
           "#FFA15A",
           "#19d3f3",
           "#FF6692",
           "#B6E880",
           "#FF97FF",
           "#FECB52"
          ],
          "font": {
           "color": "#2a3f5f"
          },
          "geo": {
           "bgcolor": "white",
           "lakecolor": "white",
           "landcolor": "#E5ECF6",
           "showlakes": true,
           "showland": true,
           "subunitcolor": "white"
          },
          "hoverlabel": {
           "align": "left"
          },
          "hovermode": "closest",
          "mapbox": {
           "style": "light"
          },
          "paper_bgcolor": "white",
          "plot_bgcolor": "#E5ECF6",
          "polar": {
           "angularaxis": {
            "gridcolor": "white",
            "linecolor": "white",
            "ticks": ""
           },
           "bgcolor": "#E5ECF6",
           "radialaxis": {
            "gridcolor": "white",
            "linecolor": "white",
            "ticks": ""
           }
          },
          "scene": {
           "xaxis": {
            "backgroundcolor": "#E5ECF6",
            "gridcolor": "white",
            "gridwidth": 2,
            "linecolor": "white",
            "showbackground": true,
            "ticks": "",
            "zerolinecolor": "white"
           },
           "yaxis": {
            "backgroundcolor": "#E5ECF6",
            "gridcolor": "white",
            "gridwidth": 2,
            "linecolor": "white",
            "showbackground": true,
            "ticks": "",
            "zerolinecolor": "white"
           },
           "zaxis": {
            "backgroundcolor": "#E5ECF6",
            "gridcolor": "white",
            "gridwidth": 2,
            "linecolor": "white",
            "showbackground": true,
            "ticks": "",
            "zerolinecolor": "white"
           }
          },
          "shapedefaults": {
           "line": {
            "color": "#2a3f5f"
           }
          },
          "ternary": {
           "aaxis": {
            "gridcolor": "white",
            "linecolor": "white",
            "ticks": ""
           },
           "baxis": {
            "gridcolor": "white",
            "linecolor": "white",
            "ticks": ""
           },
           "bgcolor": "#E5ECF6",
           "caxis": {
            "gridcolor": "white",
            "linecolor": "white",
            "ticks": ""
           }
          },
          "title": {
           "x": 0.05
          },
          "xaxis": {
           "automargin": true,
           "gridcolor": "white",
           "linecolor": "white",
           "ticks": "",
           "title": {
            "standoff": 15
           },
           "zerolinecolor": "white",
           "zerolinewidth": 2
          },
          "yaxis": {
           "automargin": true,
           "gridcolor": "white",
           "linecolor": "white",
           "ticks": "",
           "title": {
            "standoff": 15
           },
           "zerolinecolor": "white",
           "zerolinewidth": 2
          }
         }
        },
        "title": {
         "text": "XGBClassifier Probability Threshold Optimization",
         "x": 0.45,
         "xanchor": "center",
         "y": 0.95,
         "yanchor": "top"
        },
        "xaxis": {
         "anchor": "y",
         "domain": [
          0,
          1
         ],
         "title": {
          "text": "Probability Threshold"
         }
        },
        "yaxis": {
         "anchor": "x",
         "domain": [
          0,
          1
         ],
         "title": {
          "text": "Cost Function"
         }
        }
       }
      },
      "text/html": [
       "<div>\n",
       "        \n",
       "        \n",
       "            <div id=\"acdc0177-ca3e-4052-acb2-ae8252a7dfb6\" class=\"plotly-graph-div\" style=\"height:525px; width:100%;\"></div>\n",
       "            <script type=\"text/javascript\">\n",
       "                require([\"plotly\"], function(Plotly) {\n",
       "                    window.PLOTLYENV=window.PLOTLYENV || {};\n",
       "                    \n",
       "                if (document.getElementById(\"acdc0177-ca3e-4052-acb2-ae8252a7dfb6\")) {\n",
       "                    Plotly.newPlot(\n",
       "                        'acdc0177-ca3e-4052-acb2-ae8252a7dfb6',\n",
       "                        [{\"hovertemplate\": \"Probability Threshold=%{x}<br>Cost Function=%{y}<extra></extra>\", \"legendgroup\": \"\", \"line\": {\"color\": \"#636efa\", \"dash\": \"solid\", \"shape\": \"linear\"}, \"mode\": \"lines\", \"name\": \"\", \"orientation\": \"v\", \"showlegend\": false, \"type\": \"scatter\", \"x\": [0.0, 0.01, 0.02, 0.03, 0.04, 0.05, 0.06, 0.07, 0.08, 0.09, 0.1, 0.11, 0.12, 0.13, 0.14, 0.15, 0.16, 0.17, 0.18, 0.19, 0.2, 0.21, 0.22, 0.23, 0.24, 0.25, 0.26, 0.27, 0.28, 0.29, 0.3, 0.31, 0.32, 0.33, 0.34, 0.35000000000000003, 0.36, 0.37, 0.38, 0.39, 0.4, 0.41000000000000003, 0.42, 0.43, 0.44, 0.45, 0.46, 0.47000000000000003, 0.48, 0.49, 0.5, 0.51, 0.52, 0.53, 0.54, 0.55, 0.56, 0.5700000000000001, 0.58, 0.59, 0.6, 0.61, 0.62, 0.63, 0.64, 0.65, 0.66, 0.67, 0.68, 0.6900000000000001, 0.7000000000000001, 0.71, 0.72, 0.73, 0.74, 0.75, 0.76, 0.77, 0.78, 0.79, 0.8, 0.81, 0.8200000000000001, 0.8300000000000001, 0.84, 0.85, 0.86, 0.87, 0.88, 0.89, 0.9, 0.91, 0.92, 0.93, 0.9400000000000001, 0.9500000000000001, 0.96, 0.97, 0.98, 0.99], \"xaxis\": \"x\", \"y\": [0, 30, 840, 6730, 12310, 19980, 29220, 34870, 36880, 38810, 37930, 35040, 31480, 27480, 24470, 20980, 17430, 14920, 11440, 8910, 5550, 3660, 1610, 200, -1870, -3360, -4270, -5380, -7020, -7560, -8140, -8920, -9450, -10220, -10780, -10920, -10940, -11190, -11220, -11590, -12160, -12400, -12690, -12950, -13010, -13290, -13490, -13680, -13670, -13950, -14220, -14310, -14560, -14650, -14940, -15000, -15380, -15770, -15860, -16140, -16290, -16560, -16830, -17510, -17880, -18450, -18830, -19390, -19850, -20520, -21600, -22380, -23850, -24520, -25480, -27070, -28360, -29530, -30930, -33020, -35210, -37390, -39090, -40980, -43680, -46270, -48540, -50900, -53500, -56200, -57300, -58790, -59380, -60080, -60380, -61080, -61580, -61780, -61780, -61780], \"yaxis\": \"y\"}],\n",
       "                        {\"legend\": {\"tracegroupgap\": 0}, \"margin\": {\"t\": 60}, \"plot_bgcolor\": \"rgb(245,245,245)\", \"shapes\": [{\"line\": {\"color\": \"red\", \"width\": 2}, \"type\": \"line\", \"x0\": 0.09, \"x1\": 0.09, \"y0\": -61780, \"y1\": 38810}], \"template\": {\"data\": {\"bar\": [{\"error_x\": {\"color\": \"#2a3f5f\"}, \"error_y\": {\"color\": \"#2a3f5f\"}, \"marker\": {\"line\": {\"color\": \"#E5ECF6\", \"width\": 0.5}}, \"type\": \"bar\"}], \"barpolar\": [{\"marker\": {\"line\": {\"color\": \"#E5ECF6\", \"width\": 0.5}}, \"type\": \"barpolar\"}], \"carpet\": [{\"aaxis\": {\"endlinecolor\": \"#2a3f5f\", \"gridcolor\": \"white\", \"linecolor\": \"white\", \"minorgridcolor\": \"white\", \"startlinecolor\": \"#2a3f5f\"}, \"baxis\": {\"endlinecolor\": \"#2a3f5f\", \"gridcolor\": \"white\", \"linecolor\": \"white\", \"minorgridcolor\": \"white\", \"startlinecolor\": \"#2a3f5f\"}, \"type\": \"carpet\"}], \"choropleth\": [{\"colorbar\": {\"outlinewidth\": 0, \"ticks\": \"\"}, \"type\": \"choropleth\"}], \"contour\": [{\"colorbar\": {\"outlinewidth\": 0, \"ticks\": \"\"}, \"colorscale\": [[0.0, \"#0d0887\"], [0.1111111111111111, \"#46039f\"], [0.2222222222222222, \"#7201a8\"], [0.3333333333333333, \"#9c179e\"], [0.4444444444444444, \"#bd3786\"], [0.5555555555555556, \"#d8576b\"], [0.6666666666666666, \"#ed7953\"], [0.7777777777777778, \"#fb9f3a\"], [0.8888888888888888, \"#fdca26\"], [1.0, \"#f0f921\"]], \"type\": \"contour\"}], \"contourcarpet\": [{\"colorbar\": {\"outlinewidth\": 0, \"ticks\": \"\"}, \"type\": \"contourcarpet\"}], \"heatmap\": [{\"colorbar\": {\"outlinewidth\": 0, \"ticks\": \"\"}, \"colorscale\": [[0.0, \"#0d0887\"], [0.1111111111111111, \"#46039f\"], [0.2222222222222222, \"#7201a8\"], [0.3333333333333333, \"#9c179e\"], [0.4444444444444444, \"#bd3786\"], [0.5555555555555556, \"#d8576b\"], [0.6666666666666666, \"#ed7953\"], [0.7777777777777778, \"#fb9f3a\"], [0.8888888888888888, \"#fdca26\"], [1.0, \"#f0f921\"]], \"type\": \"heatmap\"}], \"heatmapgl\": [{\"colorbar\": {\"outlinewidth\": 0, \"ticks\": \"\"}, \"colorscale\": [[0.0, \"#0d0887\"], [0.1111111111111111, \"#46039f\"], [0.2222222222222222, \"#7201a8\"], [0.3333333333333333, \"#9c179e\"], [0.4444444444444444, \"#bd3786\"], [0.5555555555555556, \"#d8576b\"], [0.6666666666666666, \"#ed7953\"], [0.7777777777777778, \"#fb9f3a\"], [0.8888888888888888, \"#fdca26\"], [1.0, \"#f0f921\"]], \"type\": \"heatmapgl\"}], \"histogram\": [{\"marker\": {\"colorbar\": {\"outlinewidth\": 0, \"ticks\": \"\"}}, \"type\": \"histogram\"}], \"histogram2d\": [{\"colorbar\": {\"outlinewidth\": 0, \"ticks\": \"\"}, \"colorscale\": [[0.0, \"#0d0887\"], [0.1111111111111111, \"#46039f\"], [0.2222222222222222, \"#7201a8\"], [0.3333333333333333, \"#9c179e\"], [0.4444444444444444, \"#bd3786\"], [0.5555555555555556, \"#d8576b\"], [0.6666666666666666, \"#ed7953\"], [0.7777777777777778, \"#fb9f3a\"], [0.8888888888888888, \"#fdca26\"], [1.0, \"#f0f921\"]], \"type\": \"histogram2d\"}], \"histogram2dcontour\": [{\"colorbar\": {\"outlinewidth\": 0, \"ticks\": \"\"}, \"colorscale\": [[0.0, \"#0d0887\"], [0.1111111111111111, \"#46039f\"], [0.2222222222222222, \"#7201a8\"], [0.3333333333333333, \"#9c179e\"], [0.4444444444444444, \"#bd3786\"], [0.5555555555555556, \"#d8576b\"], [0.6666666666666666, \"#ed7953\"], [0.7777777777777778, \"#fb9f3a\"], [0.8888888888888888, \"#fdca26\"], [1.0, \"#f0f921\"]], \"type\": \"histogram2dcontour\"}], \"mesh3d\": [{\"colorbar\": {\"outlinewidth\": 0, \"ticks\": \"\"}, \"type\": \"mesh3d\"}], \"parcoords\": [{\"line\": {\"colorbar\": {\"outlinewidth\": 0, \"ticks\": \"\"}}, \"type\": \"parcoords\"}], \"pie\": [{\"automargin\": true, \"type\": \"pie\"}], \"scatter\": [{\"marker\": {\"colorbar\": {\"outlinewidth\": 0, \"ticks\": \"\"}}, \"type\": \"scatter\"}], \"scatter3d\": [{\"line\": {\"colorbar\": {\"outlinewidth\": 0, \"ticks\": \"\"}}, \"marker\": {\"colorbar\": {\"outlinewidth\": 0, \"ticks\": \"\"}}, \"type\": \"scatter3d\"}], \"scattercarpet\": [{\"marker\": {\"colorbar\": {\"outlinewidth\": 0, \"ticks\": \"\"}}, \"type\": \"scattercarpet\"}], \"scattergeo\": [{\"marker\": {\"colorbar\": {\"outlinewidth\": 0, \"ticks\": \"\"}}, \"type\": \"scattergeo\"}], \"scattergl\": [{\"marker\": {\"colorbar\": {\"outlinewidth\": 0, \"ticks\": \"\"}}, \"type\": \"scattergl\"}], \"scattermapbox\": [{\"marker\": {\"colorbar\": {\"outlinewidth\": 0, \"ticks\": \"\"}}, \"type\": \"scattermapbox\"}], \"scatterpolar\": [{\"marker\": {\"colorbar\": {\"outlinewidth\": 0, \"ticks\": \"\"}}, \"type\": \"scatterpolar\"}], \"scatterpolargl\": [{\"marker\": {\"colorbar\": {\"outlinewidth\": 0, \"ticks\": \"\"}}, \"type\": \"scatterpolargl\"}], \"scatterternary\": [{\"marker\": {\"colorbar\": {\"outlinewidth\": 0, \"ticks\": \"\"}}, \"type\": \"scatterternary\"}], \"surface\": [{\"colorbar\": {\"outlinewidth\": 0, \"ticks\": \"\"}, \"colorscale\": [[0.0, \"#0d0887\"], [0.1111111111111111, \"#46039f\"], [0.2222222222222222, \"#7201a8\"], [0.3333333333333333, \"#9c179e\"], [0.4444444444444444, \"#bd3786\"], [0.5555555555555556, \"#d8576b\"], [0.6666666666666666, \"#ed7953\"], [0.7777777777777778, \"#fb9f3a\"], [0.8888888888888888, \"#fdca26\"], [1.0, \"#f0f921\"]], \"type\": \"surface\"}], \"table\": [{\"cells\": {\"fill\": {\"color\": \"#EBF0F8\"}, \"line\": {\"color\": \"white\"}}, \"header\": {\"fill\": {\"color\": \"#C8D4E3\"}, \"line\": {\"color\": \"white\"}}, \"type\": \"table\"}]}, \"layout\": {\"annotationdefaults\": {\"arrowcolor\": \"#2a3f5f\", \"arrowhead\": 0, \"arrowwidth\": 1}, \"coloraxis\": {\"colorbar\": {\"outlinewidth\": 0, \"ticks\": \"\"}}, \"colorscale\": {\"diverging\": [[0, \"#8e0152\"], [0.1, \"#c51b7d\"], [0.2, \"#de77ae\"], [0.3, \"#f1b6da\"], [0.4, \"#fde0ef\"], [0.5, \"#f7f7f7\"], [0.6, \"#e6f5d0\"], [0.7, \"#b8e186\"], [0.8, \"#7fbc41\"], [0.9, \"#4d9221\"], [1, \"#276419\"]], \"sequential\": [[0.0, \"#0d0887\"], [0.1111111111111111, \"#46039f\"], [0.2222222222222222, \"#7201a8\"], [0.3333333333333333, \"#9c179e\"], [0.4444444444444444, \"#bd3786\"], [0.5555555555555556, \"#d8576b\"], [0.6666666666666666, \"#ed7953\"], [0.7777777777777778, \"#fb9f3a\"], [0.8888888888888888, \"#fdca26\"], [1.0, \"#f0f921\"]], \"sequentialminus\": [[0.0, \"#0d0887\"], [0.1111111111111111, \"#46039f\"], [0.2222222222222222, \"#7201a8\"], [0.3333333333333333, \"#9c179e\"], [0.4444444444444444, \"#bd3786\"], [0.5555555555555556, \"#d8576b\"], [0.6666666666666666, \"#ed7953\"], [0.7777777777777778, \"#fb9f3a\"], [0.8888888888888888, \"#fdca26\"], [1.0, \"#f0f921\"]]}, \"colorway\": [\"#636efa\", \"#EF553B\", \"#00cc96\", \"#ab63fa\", \"#FFA15A\", \"#19d3f3\", \"#FF6692\", \"#B6E880\", \"#FF97FF\", \"#FECB52\"], \"font\": {\"color\": \"#2a3f5f\"}, \"geo\": {\"bgcolor\": \"white\", \"lakecolor\": \"white\", \"landcolor\": \"#E5ECF6\", \"showlakes\": true, \"showland\": true, \"subunitcolor\": \"white\"}, \"hoverlabel\": {\"align\": \"left\"}, \"hovermode\": \"closest\", \"mapbox\": {\"style\": \"light\"}, \"paper_bgcolor\": \"white\", \"plot_bgcolor\": \"#E5ECF6\", \"polar\": {\"angularaxis\": {\"gridcolor\": \"white\", \"linecolor\": \"white\", \"ticks\": \"\"}, \"bgcolor\": \"#E5ECF6\", \"radialaxis\": {\"gridcolor\": \"white\", \"linecolor\": \"white\", \"ticks\": \"\"}}, \"scene\": {\"xaxis\": {\"backgroundcolor\": \"#E5ECF6\", \"gridcolor\": \"white\", \"gridwidth\": 2, \"linecolor\": \"white\", \"showbackground\": true, \"ticks\": \"\", \"zerolinecolor\": \"white\"}, \"yaxis\": {\"backgroundcolor\": \"#E5ECF6\", \"gridcolor\": \"white\", \"gridwidth\": 2, \"linecolor\": \"white\", \"showbackground\": true, \"ticks\": \"\", \"zerolinecolor\": \"white\"}, \"zaxis\": {\"backgroundcolor\": \"#E5ECF6\", \"gridcolor\": \"white\", \"gridwidth\": 2, \"linecolor\": \"white\", \"showbackground\": true, \"ticks\": \"\", \"zerolinecolor\": \"white\"}}, \"shapedefaults\": {\"line\": {\"color\": \"#2a3f5f\"}}, \"ternary\": {\"aaxis\": {\"gridcolor\": \"white\", \"linecolor\": \"white\", \"ticks\": \"\"}, \"baxis\": {\"gridcolor\": \"white\", \"linecolor\": \"white\", \"ticks\": \"\"}, \"bgcolor\": \"#E5ECF6\", \"caxis\": {\"gridcolor\": \"white\", \"linecolor\": \"white\", \"ticks\": \"\"}}, \"title\": {\"x\": 0.05}, \"xaxis\": {\"automargin\": true, \"gridcolor\": \"white\", \"linecolor\": \"white\", \"ticks\": \"\", \"title\": {\"standoff\": 15}, \"zerolinecolor\": \"white\", \"zerolinewidth\": 2}, \"yaxis\": {\"automargin\": true, \"gridcolor\": \"white\", \"linecolor\": \"white\", \"ticks\": \"\", \"title\": {\"standoff\": 15}, \"zerolinecolor\": \"white\", \"zerolinewidth\": 2}}}, \"title\": {\"text\": \"XGBClassifier Probability Threshold Optimization\", \"x\": 0.45, \"xanchor\": \"center\", \"y\": 0.95, \"yanchor\": \"top\"}, \"xaxis\": {\"anchor\": \"y\", \"domain\": [0.0, 1.0], \"title\": {\"text\": \"Probability Threshold\"}}, \"yaxis\": {\"anchor\": \"x\", \"domain\": [0.0, 1.0], \"title\": {\"text\": \"Cost Function\"}}},\n",
       "                        {\"responsive\": true}\n",
       "                    ).then(function(){\n",
       "                            \n",
       "var gd = document.getElementById('acdc0177-ca3e-4052-acb2-ae8252a7dfb6');\n",
       "var x = new MutationObserver(function (mutations, observer) {{\n",
       "        var display = window.getComputedStyle(gd).display;\n",
       "        if (!display || display === 'none') {{\n",
       "            console.log([gd, 'removed!']);\n",
       "            Plotly.purge(gd);\n",
       "            observer.disconnect();\n",
       "        }}\n",
       "}});\n",
       "\n",
       "// Listen for the removal of the full notebook cells\n",
       "var notebookContainer = gd.closest('#notebook-container');\n",
       "if (notebookContainer) {{\n",
       "    x.observe(notebookContainer, {childList: true});\n",
       "}}\n",
       "\n",
       "// Listen for the clearing of the current output cell\n",
       "var outputEl = gd.closest('.output');\n",
       "if (outputEl) {{\n",
       "    x.observe(outputEl, {childList: true});\n",
       "}}\n",
       "\n",
       "                        })\n",
       "                };\n",
       "                });\n",
       "            </script>\n",
       "        </div>"
      ]
     },
     "metadata": {},
     "output_type": "display_data"
    },
    {
     "name": "stdout",
     "output_type": "stream",
     "text": [
      "Optimized Probability Threshold: 0.09 | Optimized Cost Function: 38810\n"
     ]
    }
   ],
   "source": [
    "optimize_threshold(xgb, true_negative = 10, false_negative = -100)"
   ]
  },
  {
   "cell_type": "code",
   "execution_count": 23,
   "metadata": {},
   "outputs": [],
   "source": [
    "test_pred = predict_model(xgb, data = test, probability_threshold = 0.09)"
   ]
  },
  {
   "cell_type": "code",
   "execution_count": 24,
   "metadata": {},
   "outputs": [],
   "source": [
    "test_pred['IsBadBuy'] = test_pred['Score'].apply(lambda x: 1 if x > 0.09 else 0)"
   ]
  },
  {
   "cell_type": "code",
   "execution_count": 25,
   "metadata": {},
   "outputs": [],
   "source": [
    "test_pred[['RefId','IsBadBuy']].to_csv('PyCaret_xgb_Output_Optimized.csv', index = False)"
   ]
  },
  {
   "cell_type": "code",
   "execution_count": 26,
   "metadata": {},
   "outputs": [
    {
     "name": "stdout",
     "output_type": "stream",
     "text": [
      "Transformation Pipeline and Model Succesfully Saved\n"
     ]
    }
   ],
   "source": [
    "save_model(xgb, 'xgb_Basic_Opti', verbose=True)"
   ]
  },
  {
   "cell_type": "code",
   "execution_count": null,
   "metadata": {},
   "outputs": [],
   "source": []
  }
 ],
 "metadata": {
  "kernelspec": {
   "display_name": "Python 3",
   "language": "python",
   "name": "python3"
  },
  "language_info": {
   "codemirror_mode": {
    "name": "ipython",
    "version": 3
   },
   "file_extension": ".py",
   "mimetype": "text/x-python",
   "name": "python",
   "nbconvert_exporter": "python",
   "pygments_lexer": "ipython3",
   "version": "3.7.6"
  }
 },
 "nbformat": 4,
 "nbformat_minor": 4
}
